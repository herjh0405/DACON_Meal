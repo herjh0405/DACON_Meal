{
  "nbformat": 4,
  "nbformat_minor": 0,
  "metadata": {
    "colab": {
      "name": "구내식당_식수_인원_예측_Visualization.ipynb",
      "private_outputs": true,
      "provenance": [],
      "collapsed_sections": [
        "Gd936e3mHw9B",
        "lo_NhIz-H1rc",
        "Z1IcSEvcH1zy",
        "diT2xsI7H14k",
        "xS6dSlrpH1-4",
        "lqI2U-YAI3dI",
        "7ajufp3TI5Em",
        "cjzunatKI5I4"
      ],
      "authorship_tag": "ABX9TyPi9dG1IwExzKt6Iqgq/1+S",
      "include_colab_link": true
    },
    "kernelspec": {
      "name": "python3",
      "display_name": "Python 3"
    },
    "language_info": {
      "name": "python"
    }
  },
  "cells": [
    {
      "cell_type": "markdown",
      "metadata": {
        "id": "view-in-github",
        "colab_type": "text"
      },
      "source": [
        "<a href=\"https://colab.research.google.com/github/herjh0405/DACON_Meal/blob/master/%EA%B5%AC%EB%82%B4%EC%8B%9D%EB%8B%B9_%EC%8B%9D%EC%88%98_%EC%9D%B8%EC%9B%90_%EC%98%88%EC%B8%A1_Visualization.ipynb\" target=\"_parent\"><img src=\"https://colab.research.google.com/assets/colab-badge.svg\" alt=\"Open In Colab\"/></a>"
      ]
    },
    {
      "cell_type": "markdown",
      "metadata": {
        "id": "inwjL2cLHXkH"
      },
      "source": [
        "# DACON LH_구내식당 식수 인원 예측\n",
        "* 가설 검증 및 시각화"
      ]
    },
    {
      "cell_type": "markdown",
      "metadata": {
        "id": "Gd936e3mHw9B"
      },
      "source": [
        "## 환경 설정"
      ]
    },
    {
      "cell_type": "markdown",
      "metadata": {
        "id": "lo_NhIz-H1rc"
      },
      "source": [
        "### Model Install"
      ]
    },
    {
      "cell_type": "code",
      "metadata": {
        "id": "3j-G0xHoH1th"
      },
      "source": [
        "!pip install pycaret\n",
        "!pip install konlpy"
      ],
      "execution_count": null,
      "outputs": []
    },
    {
      "cell_type": "markdown",
      "metadata": {
        "id": "Z1IcSEvcH1zy"
      },
      "source": [
        "### Google Drive Mount"
      ]
    },
    {
      "cell_type": "code",
      "metadata": {
        "id": "WE_vhxjCH12G"
      },
      "source": [
        "from google.colab import drive\n",
        "drive.mount('/content/drive')"
      ],
      "execution_count": null,
      "outputs": []
    },
    {
      "cell_type": "markdown",
      "metadata": {
        "id": "diT2xsI7H14k"
      },
      "source": [
        "### Import Library"
      ]
    },
    {
      "cell_type": "code",
      "metadata": {
        "id": "WI-uPD5gH16m"
      },
      "source": [
        "import pandas as pd\n",
        "import numpy as np\n",
        "import datetime as dt\n",
        "import datetime\n",
        "import itertools\n",
        "np.random.seed(0)\n",
        "\n",
        "from pycaret.regression import *\n",
        "from sklearn.preprocessing import LabelEncoder\n",
        "from sklearn.metrics import roc_auc_score, log_loss\n",
        "\n",
        "from tqdm.notebook import tqdm\n",
        "from konlpy.tag import Kkma\n",
        "\n",
        "import torch\n",
        "import os, re"
      ],
      "execution_count": null,
      "outputs": []
    },
    {
      "cell_type": "code",
      "metadata": {
        "id": "y-d-UiVGH18s"
      },
      "source": [
        "# 한글 폰트 사용\n",
        "import matplotlib\n",
        "import matplotlib.pyplot as plt\n",
        "import matplotlib.font_manager as fm\n",
        "import os\n",
        "\n",
        "def change_matplotlib_font(font_download_url):\n",
        "    FONT_PATH = 'MY_FONT'\n",
        "    \n",
        "    font_download_cmd = f\"wget {font_download_url} -O {FONT_PATH}.zip\"\n",
        "    unzip_cmd = f\"unzip -o {FONT_PATH}.zip -d {FONT_PATH}\"\n",
        "    os.system(font_download_cmd)\n",
        "    os.system(unzip_cmd)\n",
        "    \n",
        "    font_files = fm.findSystemFonts(fontpaths=FONT_PATH)\n",
        "    for font_file in font_files:\n",
        "        fm.fontManager.addfont(font_file)\n",
        "\n",
        "    font_name = fm.FontProperties(fname=font_files[0]).get_name()\n",
        "    matplotlib.rc('font', family=font_name)\n",
        "    print(\"font family: \", plt.rcParams['font.family'])\n",
        "\n",
        "font_download_url = \"https://fonts.google.com/download?family=Noto%20Sans%20KR\"\n",
        "change_matplotlib_font(font_download_url)"
      ],
      "execution_count": null,
      "outputs": []
    },
    {
      "cell_type": "markdown",
      "metadata": {
        "id": "xS6dSlrpH1-4"
      },
      "source": [
        "## Data Preprocessing"
      ]
    },
    {
      "cell_type": "markdown",
      "metadata": {
        "id": "lqI2U-YAI3dI"
      },
      "source": [
        "### Load Data"
      ]
    },
    {
      "cell_type": "code",
      "metadata": {
        "id": "xsL4yiSII5AA"
      },
      "source": [
        "path = '/content/drive/MyDrive/DACON/Dacon_Industry_Meal/'\n",
        "train = pd.read_csv(path+'train.csv')\n",
        "test = pd.read_csv(path+'test.csv')\n",
        "\n",
        "train.columns = ['일자', '요일', '정원','휴가자', '출장자', '야근자',\\\n",
        "                 '재택근무자', '조식', '중식', '석식', '중식계', '석식계']\n",
        "test.columns = ['일자', '요일', '정원','휴가자', '출장자', '야근자',\\\n",
        "                 '재택근무자', '조식', '중식', '석식']"
      ],
      "execution_count": null,
      "outputs": []
    },
    {
      "cell_type": "code",
      "metadata": {
        "id": "GGUkBs5DI5Ch"
      },
      "source": [
        "train[['재택근무자', '중식계', '석식계']] = train[['재택근무자', '중식계', '석식계']].astype('int')\n",
        "test['재택근무자'] = test['재택근무자'].astype('int')\n",
        "\n",
        "def df_date(df) :\n",
        "    df['일자'] = pd.to_datetime(df['일자'])\n",
        "    df['년'] = df['일자'].dt.year\n",
        "    df['월'] = df['일자'].dt.month\n",
        "    df['일'] = df['일자'].dt.day\n",
        "    df['월일'] = df['일자'].apply(lambda x : str(x)[5:10])\n",
        "\n",
        "    return df\n",
        "\n",
        "train = df_date(train)\n",
        "test = df_date(test)"
      ],
      "execution_count": null,
      "outputs": []
    },
    {
      "cell_type": "markdown",
      "metadata": {
        "id": "7ajufp3TI5Em"
      },
      "source": [
        "## 가설 수립 및 검정"
      ]
    },
    {
      "cell_type": "markdown",
      "metadata": {
        "id": "cjzunatKI5I4"
      },
      "source": [
        "### 가설 1. 재택근무는 코로나 때문에 생겼을 것이다.\n",
        "* 이후에, 코로나 확진자 수와 연동할 것이지만, 현재로써도 가설이 맞음을 확인할 수 있다.\n",
        "![image](https://user-images.githubusercontent.com/54921730/120912709-9330a980-c6cc-11eb-97e5-52ae39115551.png)\n",
        "* 이제 여러가지 의문점이 추가로 등장\n",
        "    * 재택 근무자 수가 증가함에 따라 식수 인원도 증가하는가?\n",
        "        * 의외의 결과 발생 -> 코로나 환자 증가로 인해, 외식이 어려워지면서 식수 인원이 증가한 것으로 추측\n",
        "            * 그렇다면 감시 단계 데이터도 연동해야하는가?  \n",
        "![image](https://user-images.githubusercontent.com/54921730/120911123-8e192d80-c6bf-11eb-9146-1a52356cf9d1.png)\n",
        "![image](https://user-images.githubusercontent.com/54921730/120911048-f87d9e00-c6be-11eb-9f3c-85d39d82a74d.png)\n",
        "    * 그렇다면 코로나 전후로 데이터를 구분해야하는 것은 아닌가?\n",
        "\n",
        "### 결론\n",
        "* 위 여러 의문점들이 남아있지만, 아직 명쾌한 해답이 나오지 않았음.\n",
        "* 컴퓨터가 학습하기 너무 어려운 데이터라 판단, 데이터에서 제외"
      ]
    },
    {
      "cell_type": "markdown",
      "metadata": {
        "id": "qBGhClBbVvkb"
      },
      "source": [
        "## 국내 일일 코로나 확진자 추이"
      ]
    },
    {
      "cell_type": "code",
      "metadata": {
        "id": "xGNxMqXED8jh"
      },
      "source": [
        "parse"
      ],
      "execution_count": null,
      "outputs": []
    },
    {
      "cell_type": "code",
      "metadata": {
        "id": "ewqiHNlKV0ZK"
      },
      "source": [
        "# 코로나 발생현황 데이터 불러와서 비교할 예정\n",
        "from bs4 import BeautifulSoup\n",
        "from urllib.request import Request, urlopen\n",
        "from urllib.parse import unquote, quote_plus, urlencode\n",
        "\n",
        "# 1. URL 파라미터 분리하기.\n",
        "# Service URL\n",
        "url = 'http://openapi.data.go.kr/openapi/service/rest/Covid19/getCovid19InfStateJson'\n",
        "servicekey = '9qhUwKCc9ASN8d7C8HnGWLyQOr1P4rkXKxsYwShxM6PLhVSnNwqlkZQsY%2Fk%2Bx4Rixmyznbm65TySlJtMbVi3KA%3D%3D'\n",
        "decodekey = unquote(servicekey)\n",
        "\n",
        "\n",
        "startCreateDt = 20190101\n",
        "endCreateDt = 20220101\n",
        "\n",
        "query_params = '?' + urlencode({\n",
        "    quote_plus('serviceKey'): decodekey,\n",
        "    quote_plus('startCreateDt'): startCreateDt,\n",
        "    quote_plus('endCreateDt'): endCreateDt\n",
        "})\n",
        "\n",
        "URL = url + query_params\n",
        "\n",
        "request = Request(URL)\n",
        "page = urlopen(request).read()\n",
        "soup = BeautifulSoup(page, 'html.parser')\n",
        "parse = soup.find_all(['decidecnt', 'statedt', 'examcnt'])\n",
        "\n",
        "co_df = []\n",
        "for dt, cnt, care in zip(parse[2::3], parse[0::3], parse[1::3]):\n",
        "    co_df.append([dt.text, int(cnt.text), int(care.text)])\n",
        "\n",
        "co_df = pd.DataFrame(co_df, columns=['일자', '누적확진자', '일일검사자'])\n",
        "co_df = co_df.sort_values(by='일자').reset_index(drop=True)\n",
        "co_df['누적확진자'][4] = 15\n",
        "co_df['일일확진자'] = co_df['누적확진자'].diff()\n",
        "co_df = co_df.loc[1:].reset_index(drop=True)  # 맨 앞의 데이터는 지우기 (일별 확진자가 계산되지 않았기 때문에)\n",
        "co_df['일자'] = pd.to_datetime(co_df['일자'])\n",
        "co_df['누적검사자'] = list(itertools.accumulate(co_df['일일검사자']))"
      ],
      "execution_count": null,
      "outputs": []
    },
    {
      "cell_type": "markdown",
      "metadata": {
        "id": "0pjItGzckUGV"
      },
      "source": [
        "### 진주시 일일 코로나 확진자 데이터 크롤링"
      ]
    },
    {
      "cell_type": "code",
      "metadata": {
        "id": "OpXbznmQ34Mx"
      },
      "source": [
        "import ssl\n",
        "context = ssl._create_unverified_context()\n",
        "weekday_list = ['(월)', '(화)', '(수)', '(목)', '(금)', '(토)', '(일)']\n",
        "jinju_co = [[], []]\n",
        "\n",
        "for i in tqdm(range(2, 6)):\n",
        "    request= Request('https://www.jinju.go.kr/05190/05641.web?&cpage='+str(i))\n",
        "    page = urlopen(request, context=context).read()\n",
        "    soup = BeautifulSoup(page, 'html.parser')\n",
        "    for i in soup.select('span.t1') : \n",
        "        if ('진주' in i.text) and ('경남' in i.text) :\n",
        "            jinju_co[0].append(i.text)\n",
        "        if  i.text[-3:] in weekday_list : \n",
        "            jinju_co[1].append(i.text)"
      ],
      "execution_count": null,
      "outputs": []
    },
    {
      "cell_type": "code",
      "metadata": {
        "id": "pX6O3NY6Xwbe"
      },
      "source": [
        "jinju_df = pd.DataFrame([jinju_co[0], jinju_co[1][1:]]).T\n",
        "jinju_df.columns = ['번호', '일자']\n",
        "jinju_df['요일'] = jinju_df['일자'].apply(lambda x : x[-3:].replace('(','').replace(')',''))\n",
        "jinju_df['일자'] = jinju_df['일자'].apply(lambda x: x[:-4].replace(' ','').replace('.', '-'))\n",
        "jinju_df['일자'] = jinju_df.apply(lambda x : '2020-'+x['일자'] if x.name > 759\\\n",
        "                                else '2021-'+x['일자'], axis=1)\n",
        "jinju_df['일자'] = pd.to_datetime(jinju_df['일자'])\n",
        "# 토요일에 확진자가 발생했을 경우 금요일로, 일요일에 확진자가 발생했을 경우 월요일로 변경\n",
        "jinju_df['일자'] = jinju_df.apply(lambda x : x['일자'] - datetime.timedelta(1) if x['요일']=='토'\n",
        "                            else (x['일자'] + datetime.timedelta(1) if x['요일']=='일'\n",
        "                            else x['일자']), axis=1)\n",
        "jinju_df = jinju_df[jinju_df['번호']!='진주기타1(경남기타1)']\n",
        "jinju_df['번호'] = jinju_df['번호'].apply(lambda x : x.split('(')[0].replace('진주', '')).astype('int')\n",
        "jinju_df = jinju_df.groupby(['일자'])['번호'].max().reset_index()\n",
        "jinju_df.columns = ['일자', '진주_누적확진자']\n",
        "jinju_df.sort_values('일자', inplace=True)\n",
        "jinju_df['진주_일일확진자'] = jinju_df['진주_누적확진자'].diff()\n",
        "jinju_df['진주_일일확진자'][0] = 2\n",
        "kojin_df = pd.merge(co_df, jinju_df, on='일자', how='left').iloc[:434]\n",
        "kojin_df['진주_일일확진자'] = kojin_df['진주_일일확진자'].fillna(0)\n",
        "kojin_df['진주_누적확진자'] = list(itertools.accumulate(kojin_df['진주_일일확진자']))"
      ],
      "execution_count": null,
      "outputs": []
    },
    {
      "cell_type": "markdown",
      "metadata": {
        "id": "A3T-9lTNq_Yd"
      },
      "source": [
        "### 경남 코로나 일일 확진자"
      ]
    },
    {
      "cell_type": "code",
      "metadata": {
        "id": "x0RiMpQ_jSdP"
      },
      "source": [
        "url = 'http://openapi.data.go.kr/openapi/service/rest/Covid19/getCovid19SidoInfStateJson'\n",
        "servicekey = '9qhUwKCc9ASN8d7C8HnGWLyQOr1P4rkXKxsYwShxM6PLhVSnNwqlkZQsY%2Fk%2Bx4Rixmyznbm65TySlJtMbVi3KA%3D%3D'\n",
        "decodekey = unquote(servicekey)\n",
        "\n",
        "\n",
        "startCreateDt = 20200201\n",
        "endCreateDt = 20210409\n",
        "\n",
        "query_params = '?' + urlencode({\n",
        "    quote_plus('serviceKey'): decodekey,\n",
        "    quote_plus('startCreateDt'): startCreateDt,\n",
        "    quote_plus('endCreateDt'): endCreateDt\n",
        "})\n",
        "\n",
        "URL = url + query_params\n",
        "\n",
        "request = Request(URL)\n",
        "page = urlopen(request).read()\n",
        "soup = BeautifulSoup(page, 'html.parser')\n",
        "import time\n",
        "st_time = time.time()\n",
        "sido_df = []\n",
        "check_point = 0\n",
        "sido_corona = soup.find_all(['gubun','stdday', 'defcnt','localocccnt'])\n",
        "for i in range(len(sido_corona)) : \n",
        "    if '경남' in sido_corona[i].text : \n",
        "        sido_df.append([sido_corona[i-2].text, sido_corona[i-1].text])\n",
        "    \n",
        "    if i%1000 == 0 : \n",
        "        ed_time = time.time() - st_time\n",
        "        print(f'\\r남은 데이터 : {i}/{len(sido_corona)}    남은 시간 : {ed_time*(len(sido_corona)-i)}', end='')"
      ],
      "execution_count": null,
      "outputs": []
    },
    {
      "cell_type": "code",
      "metadata": {
        "id": "kIPx4DnNnLxa"
      },
      "source": [
        "kn_df = pd.DataFrame(sido_df, columns=['일자', '경남_누적확진자'])\n",
        "kn_df['일자'] = kn_df['일자'].apply(lambda x: x[:-4].replace(' ','').replace('년', '-').replace('월', '-').replace('일', ''))\n",
        "kn_df = kn_df.iloc[:-1]\n",
        "kn_df['일자'] = pd.to_datetime(kn_df['일자'])"
      ],
      "execution_count": null,
      "outputs": []
    },
    {
      "cell_type": "markdown",
      "metadata": {
        "id": "FSG94pI0deOz"
      },
      "source": [
        "## 총 데이터 결합"
      ]
    },
    {
      "cell_type": "code",
      "metadata": {
        "id": "-2wVGiULfKn4"
      },
      "source": [
        "corona_df = pd.merge(kojin_df, kn_df, on='일자', how='left')\n",
        "corona_df = corona_df.fillna(0)\n",
        "corona_df['경남_누적확진자'][20:32] = [2, 4, 7, 17, 23, 28, 43, 48, 58, 59, 61, 62]\n",
        "corona_df['경남_누적확진자'] = corona_df['경남_누적확진자'].astype('int')\n",
        "corona_df['경남_일일확진자'] = corona_df['경남_누적확진자'].diff()\n",
        "corona_df.dropna(inplace=True)\n",
        "corona_df.iloc[:, 1:] = corona_df.iloc[:, 1:].astype(int)"
      ],
      "execution_count": null,
      "outputs": []
    },
    {
      "cell_type": "code",
      "metadata": {
        "id": "hp3m39cui7NH"
      },
      "source": [
        "corona_df.to_csv('./국내_진주_경남-누적_일일확진자.csv', index=False)"
      ],
      "execution_count": null,
      "outputs": []
    },
    {
      "cell_type": "markdown",
      "metadata": {
        "id": "e4FtBpiYsVFD"
      },
      "source": [
        "## 원본데이터+코로나 데이터"
      ]
    },
    {
      "cell_type": "code",
      "metadata": {
        "id": "Hf1B_b2wpyp9"
      },
      "source": [
        "co_train = pd.merge(train, corona_df, on='일자', how='left')\n",
        "co_train = co_train.fillna(0)"
      ],
      "execution_count": null,
      "outputs": []
    },
    {
      "cell_type": "code",
      "metadata": {
        "id": "QERTbrBIvm1I"
      },
      "source": [
        "co_graph = co_train.iloc[900:]"
      ],
      "execution_count": null,
      "outputs": []
    },
    {
      "cell_type": "code",
      "metadata": {
        "id": "M_XUiNywI5LF"
      },
      "source": [
        "plt.figure(figsize=(8, 6))\n",
        "plt.plot(co_graph['일자'], co_graph['재택근무자'], label='재택근무자')\n",
        "plt.plot(co_graph['일자'], co_graph['일일확진자'], label='일일확진자')\n",
        "plt.plot(co_graph['일자'], co_graph['진주_일일확진자'], label='진주_일일확진자')\n",
        "plt.plot(co_graph['일자'], np.log2(co_graph['누적확진자']), label='누적확진자')\n",
        "plt.plot(co_graph['일자'], co_graph['진주_누적확진자'], label='진주_누적확진자')\n",
        "plt.plot(co_graph['일자'], co_graph['경남_일일확진자'], label='경남_일일확진자')\n",
        "plt.plot(co_graph['일자'], co_graph['경남_누적확진자'], label='경남_누적확진자')\n",
        "plt.plot(co_graph['일자'], co_graph['일일검사자']/100, label='일일검사자')\n",
        "plt.plot(co_graph['일자'], np.log2(co_graph['누적검사자']), label='누적검사자')\n",
        "plt.xlabel('일자')\n",
        "plt.ylabel('인원 수')\n",
        "plt.legend('best', labels=['재택근무자', '일별확진자', '진주_일일확진자',\\\n",
        "                           '누적확진자', '진주_누적확진자', '경남_일일확진자',\\\n",
        "                           '경남_누적확진자', '일일검사자', '누적검사자'])\n",
        "plt.title('재택근무/일별확진자 수 추이')\n",
        "plt.show()"
      ],
      "execution_count": null,
      "outputs": []
    },
    {
      "cell_type": "code",
      "metadata": {
        "id": "KkThqRAfGOxz"
      },
      "source": [
        "co_train.corr()"
      ],
      "execution_count": null,
      "outputs": []
    },
    {
      "cell_type": "code",
      "metadata": {
        "id": "fIvH7RqTq5ZA"
      },
      "source": [
        "import seaborn as sns\n",
        "plt.figure(figsize=(8, 6))\n",
        "sns.heatmap(co_train.corr())\n",
        "plt.show()"
      ],
      "execution_count": null,
      "outputs": []
    },
    {
      "cell_type": "code",
      "metadata": {
        "id": "tiyhV_S0QPLI"
      },
      "source": [
        "train_18 = train.loc[train['년']==2018]\n",
        "train_19 = train.loc[train['년']==2019]\n",
        "train_20 = train.loc[train['년']==2020]"
      ],
      "execution_count": null,
      "outputs": []
    },
    {
      "cell_type": "code",
      "metadata": {
        "id": "aNK_xJ2ASGsq"
      },
      "source": [
        "plt.plot(train.groupby(['년'])['정원'].mean())\n",
        "plt.title('년도 별 정원', fontsize=12)\n",
        "\n",
        "plt.show()"
      ],
      "execution_count": null,
      "outputs": []
    },
    {
      "cell_type": "code",
      "metadata": {
        "id": "yu9npPDuI5Pj"
      },
      "source": [
        "plt.figure(figsize=(15, 10))\n",
        "plt.subplot(121)\n",
        "bar_width = 0.3\n",
        "index = train_19.groupby(['월'])['중식계'].sum().index\n",
        "alpha = 0.5\n",
        "\n",
        "plt.bar(index-bar_width, train_18.groupby(['월'])['중식계'].sum(),\n",
        "        label='2018', width=0.3, alpha=alpha)\n",
        "plt.bar(index, train_19.groupby(['월'])['중식계'].sum(), label='2019', width=0.3, alpha=alpha)\n",
        "plt.bar(index+bar_width,\n",
        "        train_20.groupby(['월'])['중식계'].sum(), label='2020', width=0.3, alpha=alpha)\n",
        "plt.bar(index+bar_width,\n",
        "        train_20.groupby(['월'])['재택근무자'].sum(), label='재택근무자',\n",
        "        bottom=train_20.groupby(['월'])['중식계'].sum(), width=0.3, alpha=alpha)\n",
        "\n",
        "plt.xticks(index, label=index)\n",
        "plt.xlabel('월')\n",
        "plt.ylabel('중식계 총합')\n",
        "plt.legend('best', labels=['2018', '2019', '2020', '재택근무자'])\n",
        "plt.title('코로나가 중식계에 끼친 영향', fontsize=12)\n",
        "\n",
        "plt.subplot(122)\n",
        "bar_width = 0.3\n",
        "index = train_19.groupby(['월'])['석식계'].sum().index\n",
        "alpha = 0.5\n",
        "\n",
        "plt.bar(index-bar_width, train_18.groupby(['월'])['석식계'].sum(),\n",
        "        label='2018', width=0.3, alpha=alpha)\n",
        "plt.bar(index, train_19.groupby(['월'])['석식계'].sum(), label='2019', width=0.3, alpha=alpha)\n",
        "plt.bar(index+bar_width,\n",
        "        train_20.groupby(['월'])['석식계'].sum(), label='2020', width=0.3, alpha=alpha)\n",
        "plt.bar(index+bar_width,\n",
        "        train_20.groupby(['월'])['재택근무자'].sum(), label='재택근무자',\n",
        "        bottom=train_20.groupby(['월'])['석식계'].sum(), width=0.3, alpha=alpha)\n",
        "\n",
        "plt.xticks(index, label=index)\n",
        "plt.xlabel('월')\n",
        "plt.ylabel('석식계 총합')\n",
        "plt.legend('best', labels=['2018', '2019', '2020', '재택근무자'])\n",
        "plt.title('코로나가 석식계에 끼친 영향', fontsize=12)\n",
        "plt.show()"
      ],
      "execution_count": null,
      "outputs": []
    },
    {
      "cell_type": "code",
      "metadata": {
        "id": "jc91W9o8I5R1"
      },
      "source": [
        ""
      ],
      "execution_count": null,
      "outputs": []
    },
    {
      "cell_type": "code",
      "metadata": {
        "id": "yCXBib2DI5UM"
      },
      "source": [
        ""
      ],
      "execution_count": null,
      "outputs": []
    },
    {
      "cell_type": "code",
      "metadata": {
        "id": "itydQrdTI5WT"
      },
      "source": [
        ""
      ],
      "execution_count": null,
      "outputs": []
    }
  ]
}