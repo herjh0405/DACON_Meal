{
  "nbformat": 4,
  "nbformat_minor": 0,
  "metadata": {
    "colab": {
      "name": "구내식당_식수_인원_예측_Visualization.ipynb",
      "private_outputs": true,
      "provenance": [],
      "collapsed_sections": [],
      "authorship_tag": "ABX9TyO1CnVdk3bjhhO2yBc2KIhC",
      "include_colab_link": true
    },
    "kernelspec": {
      "name": "python3",
      "display_name": "Python 3"
    },
    "language_info": {
      "name": "python"
    }
  },
  "cells": [
    {
      "cell_type": "markdown",
      "metadata": {
        "id": "view-in-github",
        "colab_type": "text"
      },
      "source": [
        "<a href=\"https://colab.research.google.com/github/herjh0405/DACON_Meal/blob/master/%EA%B5%AC%EB%82%B4%EC%8B%9D%EB%8B%B9_%EC%8B%9D%EC%88%98_%EC%9D%B8%EC%9B%90_%EC%98%88%EC%B8%A1_Visualization.ipynb\" target=\"_parent\"><img src=\"https://colab.research.google.com/assets/colab-badge.svg\" alt=\"Open In Colab\"/></a>"
      ]
    },
    {
      "cell_type": "markdown",
      "metadata": {
        "id": "inwjL2cLHXkH"
      },
      "source": [
        "# DACON LH_구내식당 식수 인원 예측\n",
        "* 가설 검증 및 시각화"
      ]
    },
    {
      "cell_type": "markdown",
      "metadata": {
        "id": "Gd936e3mHw9B"
      },
      "source": [
        "## 환경 설정"
      ]
    },
    {
      "cell_type": "markdown",
      "metadata": {
        "id": "lo_NhIz-H1rc"
      },
      "source": [
        "### Model Install"
      ]
    },
    {
      "cell_type": "code",
      "metadata": {
        "id": "3j-G0xHoH1th"
      },
      "source": [
        "!pip install pycaret\n",
        "!pip install konlpy"
      ],
      "execution_count": null,
      "outputs": []
    },
    {
      "cell_type": "markdown",
      "metadata": {
        "id": "Z1IcSEvcH1zy"
      },
      "source": [
        "### Google Drive Mount"
      ]
    },
    {
      "cell_type": "code",
      "metadata": {
        "id": "WE_vhxjCH12G"
      },
      "source": [
        "from google.colab import drive\n",
        "drive.mount('/content/drive')"
      ],
      "execution_count": null,
      "outputs": []
    },
    {
      "cell_type": "markdown",
      "metadata": {
        "id": "diT2xsI7H14k"
      },
      "source": [
        "### Import Library"
      ]
    },
    {
      "cell_type": "code",
      "metadata": {
        "id": "WI-uPD5gH16m"
      },
      "source": [
        "import pandas as pd\n",
        "import numpy as np\n",
        "import datetime as dt\n",
        "np.random.seed(0)\n",
        "\n",
        "from pycaret.regression import *\n",
        "from sklearn.preprocessing import LabelEncoder\n",
        "from sklearn.metrics import roc_auc_score, log_loss\n",
        "\n",
        "from tqdm.notebook import tqdm\n",
        "from konlpy.tag import Kkma\n",
        "\n",
        "import torch\n",
        "import os, re"
      ],
      "execution_count": null,
      "outputs": []
    },
    {
      "cell_type": "code",
      "metadata": {
        "id": "y-d-UiVGH18s"
      },
      "source": [
        "# 한글 폰트 사용\n",
        "import matplotlib\n",
        "import matplotlib.pyplot as plt\n",
        "import matplotlib.font_manager as fm\n",
        "import os\n",
        "\n",
        "def change_matplotlib_font(font_download_url):\n",
        "    FONT_PATH = 'MY_FONT'\n",
        "    \n",
        "    font_download_cmd = f\"wget {font_download_url} -O {FONT_PATH}.zip\"\n",
        "    unzip_cmd = f\"unzip -o {FONT_PATH}.zip -d {FONT_PATH}\"\n",
        "    os.system(font_download_cmd)\n",
        "    os.system(unzip_cmd)\n",
        "    \n",
        "    font_files = fm.findSystemFonts(fontpaths=FONT_PATH)\n",
        "    for font_file in font_files:\n",
        "        fm.fontManager.addfont(font_file)\n",
        "\n",
        "    font_name = fm.FontProperties(fname=font_files[0]).get_name()\n",
        "    matplotlib.rc('font', family=font_name)\n",
        "    print(\"font family: \", plt.rcParams['font.family'])\n",
        "\n",
        "font_download_url = \"https://fonts.google.com/download?family=Noto%20Sans%20KR\"\n",
        "change_matplotlib_font(font_download_url)"
      ],
      "execution_count": null,
      "outputs": []
    },
    {
      "cell_type": "markdown",
      "metadata": {
        "id": "xS6dSlrpH1-4"
      },
      "source": [
        "## Data Preprocessing"
      ]
    },
    {
      "cell_type": "markdown",
      "metadata": {
        "id": "lqI2U-YAI3dI"
      },
      "source": [
        "### Load Data"
      ]
    },
    {
      "cell_type": "code",
      "metadata": {
        "id": "xsL4yiSII5AA"
      },
      "source": [
        "path = '/content/drive/MyDrive/DACON/Dacon_Industry_Meal/'\n",
        "train = pd.read_csv(path+'train.csv')\n",
        "test = pd.read_csv(path+'test.csv')\n",
        "\n",
        "train.columns = ['일자', '요일', '정원','휴가자', '출장자', '야근자',\\\n",
        "                 '재택근무자', '조식', '중식', '석식', '중식계', '석식계']\n",
        "test.columns = ['일자', '요일', '정원','휴가자', '출장자', '야근자',\\\n",
        "                 '재택근무자', '조식', '중식', '석식']"
      ],
      "execution_count": null,
      "outputs": []
    },
    {
      "cell_type": "code",
      "metadata": {
        "id": "GGUkBs5DI5Ch"
      },
      "source": [
        "train[['재택근무자', '중식계', '석식계']] = train[['재택근무자', '중식계', '석식계']].astype('int')\n",
        "test['재택근무자'] = test['재택근무자'].astype('int')\n",
        "\n",
        "def df_date(df) :\n",
        "    df['일자'] = pd.to_datetime(df['일자'])\n",
        "    df['년'] = df['일자'].dt.year\n",
        "    df['월'] = df['일자'].dt.month\n",
        "    df['일'] = df['일자'].dt.day\n",
        "    df['월일'] = df['일자'].apply(lambda x : str(x)[5:10])\n",
        "\n",
        "    return df\n",
        "\n",
        "train = df_date(train)\n",
        "test = df_date(test)"
      ],
      "execution_count": null,
      "outputs": []
    },
    {
      "cell_type": "markdown",
      "metadata": {
        "id": "7ajufp3TI5Em"
      },
      "source": [
        "## 가설 수립 및 검정"
      ]
    },
    {
      "cell_type": "markdown",
      "metadata": {
        "id": "cjzunatKI5I4"
      },
      "source": [
        "### 가설 1. 재택근무는 코로나 때문에 생겼을 것이다.\n",
        "* 이후에, 코로나 확진자 수와 연동할 것이지만, 현재로써도 가설이 맞음을 확인할 수 있다.\n",
        "![image](https://user-images.githubusercontent.com/54921730/120911062-14813f80-c6bf-11eb-85e6-41bd263e1eb2.png)\n",
        "* 이제 여러가지 의문점이 추가로 등장\n",
        "    * 재택 근무자 수가 증가함에 따라 식수 인원도 증가하는가?\n",
        "        * 의외의 결과 발생 -> 코로나 환자 증가로 인해, 외식이 어려워지면서 식수 인원이 증가한 것으로 추측\n",
        "            * 그렇다면 감시 단계 데이터도 연동해야하는가?  \n",
        "![image](https://user-images.githubusercontent.com/54921730/120911123-8e192d80-c6bf-11eb-9146-1a52356cf9d1.png)\n",
        "![image](https://user-images.githubusercontent.com/54921730/120911048-f87d9e00-c6be-11eb-9f3c-85d39d82a74d.png)\n",
        "    * 그렇다면 코로나 전후로 데이터를 구분해야하는 것은 아닌가?\n",
        "\n",
        "### 결론\n",
        "* 위 여러 의문점들이 남아있지만, 아직 명쾌한 해답이 나오지 않았음.\n",
        "* 컴퓨터가 학습하기 너무 어려운 데이터라 판단, 데이터에서 제외"
      ]
    },
    {
      "cell_type": "code",
      "metadata": {
        "id": "A_u9yl5DKzQ2"
      },
      "source": [
        "# 코로나 발생현황 데이터 불러와서 비교할 예정\n",
        "from bs4 import BeautifulSoup\n",
        "from urllib.request import Request, urlopen\n",
        "from urllib.parse import unquote, quote_plus, urlencode\n",
        "\n",
        "# 1. URL 파라미터 분리하기.\n",
        "# Service URL\n",
        "url = 'http://openapi.data.go.kr/openapi/service/rest/Covid19/getCovid19InfStateJson'\n",
        "servicekey = '{9qhUwKCc9ASN8d7C8HnGWLyQOr1P4rkXKxsYwShxM6PLhVSnNwqlkZQsY%2Fk%2Bx4Rixmyznbm65TySlJtMbVi3KA%3D%3D}'\n",
        "decodekey = unquote(servicekey)\n",
        "\n",
        "queryParams = '?' + urlencode(    # get 방식으로 쿼리를 분리하기 위해 '?'를 넣은 것이다. 메타코드 아님.\n",
        "    {\n",
        "        quote_plus('ServiceKey') : servicekey,    # 필수 항목 1 : 서비스키 (본인의 서비스키)\n",
        "    }\n",
        ")\n",
        "\n",
        "URL = url + queryParams\n",
        "request = Request(URL)\n",
        "page = urlopen(request).read()\n",
        "soup = BeautifulSoup(page, 'html.parser')"
      ],
      "execution_count": null,
      "outputs": []
    },
    {
      "cell_type": "code",
      "metadata": {
        "id": "M_XUiNywI5LF"
      },
      "source": [
        "plt.plot(train['일자'], train['재택근무자'])\n",
        "plt.xlabel('일자')\n",
        "plt.ylabel('재택 근무자 수')\n",
        "plt.title('재택 근무자 수 추이')\n",
        "plt.show()"
      ],
      "execution_count": null,
      "outputs": []
    },
    {
      "cell_type": "code",
      "metadata": {
        "id": "tiyhV_S0QPLI"
      },
      "source": [
        "train_18 = train.loc[train['년']==2018]\n",
        "train_19 = train.loc[train['년']==2019]\n",
        "train_20 = train.loc[train['년']==2020]"
      ],
      "execution_count": null,
      "outputs": []
    },
    {
      "cell_type": "code",
      "metadata": {
        "id": "aNK_xJ2ASGsq"
      },
      "source": [
        "\n",
        "\n",
        "plt.show()"
      ],
      "execution_count": null,
      "outputs": []
    },
    {
      "cell_type": "code",
      "metadata": {
        "id": "yu9npPDuI5Pj"
      },
      "source": [
        "plt.figure(figsize=(15, 10))\n",
        "plt.subplot(121)\n",
        "bar_width = 0.3\n",
        "index = train_19.groupby(['월'])['중식계'].sum().index\n",
        "alpha = 0.5\n",
        "\n",
        "plt.bar(index-bar_width, train_18.groupby(['월'])['중식계'].sum(),\n",
        "        label='2018', width=0.3, alpha=alpha)\n",
        "plt.bar(index, train_19.groupby(['월'])['중식계'].sum(), label='2019', width=0.3, alpha=alpha)\n",
        "plt.bar(index+bar_width,\n",
        "        train_20.groupby(['월'])['중식계'].sum(), label='2020', width=0.3, alpha=alpha)\n",
        "plt.bar(index+bar_width,\n",
        "        train_20.groupby(['월'])['재택근무자'].sum(), label='재택근무자',\n",
        "        bottom=train_20.groupby(['월'])['중식계'].sum(), width=0.3, alpha=alpha)\n",
        "\n",
        "plt.xticks(index, label=index)\n",
        "plt.xlabel('월')\n",
        "plt.ylabel('중식계 총합')\n",
        "plt.legend('best', labels=['2018', '2019', '2020', '재택근무자'])\n",
        "plt.title('코로나가 중식계에 끼친 영향', fontsize=12)\n",
        "\n",
        "plt.subplot(122)\n",
        "bar_width = 0.3\n",
        "index = train_19.groupby(['월'])['석식계'].sum().index\n",
        "alpha = 0.5\n",
        "\n",
        "plt.bar(index-bar_width, train_18.groupby(['월'])['석식계'].sum(),\n",
        "        label='2018', width=0.3, alpha=alpha)\n",
        "plt.bar(index, train_19.groupby(['월'])['석식계'].sum(), label='2019', width=0.3, alpha=alpha)\n",
        "plt.bar(index+bar_width,\n",
        "        train_20.groupby(['월'])['석식계'].sum(), label='2020', width=0.3, alpha=alpha)\n",
        "plt.bar(index+bar_width,\n",
        "        train_20.groupby(['월'])['재택근무자'].sum(), label='재택근무자',\n",
        "        bottom=train_20.groupby(['월'])['석식계'].sum(), width=0.3, alpha=alpha)\n",
        "\n",
        "plt.xticks(index, label=index)\n",
        "plt.xlabel('월')\n",
        "plt.ylabel('석식계 총합')\n",
        "plt.legend('best', labels=['2018', '2019', '2020', '재택근무자'])\n",
        "plt.title('코로나가 석식계에 끼친 영향', fontsize=12)\n",
        "plt.show()"
      ],
      "execution_count": null,
      "outputs": []
    },
    {
      "cell_type": "code",
      "metadata": {
        "id": "jc91W9o8I5R1"
      },
      "source": [
        ""
      ],
      "execution_count": null,
      "outputs": []
    },
    {
      "cell_type": "code",
      "metadata": {
        "id": "yCXBib2DI5UM"
      },
      "source": [
        ""
      ],
      "execution_count": null,
      "outputs": []
    },
    {
      "cell_type": "code",
      "metadata": {
        "id": "itydQrdTI5WT"
      },
      "source": [
        ""
      ],
      "execution_count": null,
      "outputs": []
    }
  ]
}