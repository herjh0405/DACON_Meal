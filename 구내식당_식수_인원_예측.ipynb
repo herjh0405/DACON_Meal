{
  "nbformat": 4,
  "nbformat_minor": 0,
  "metadata": {
    "colab": {
      "name": "구내식당_식수_인원_예측",
      "private_outputs": true,
      "provenance": [],
      "collapsed_sections": [],
      "authorship_tag": "ABX9TyPIEgrsR7YbOSIuEJDGQgVt",
      "include_colab_link": true
    },
    "kernelspec": {
      "name": "python3",
      "display_name": "Python 3"
    },
    "language_info": {
      "name": "python"
    }
  },
  "cells": [
    {
      "cell_type": "markdown",
      "metadata": {
        "id": "view-in-github",
        "colab_type": "text"
      },
      "source": [
        "<a href=\"https://colab.research.google.com/github/herjh0405/DACON_Meal/blob/master/%EA%B5%AC%EB%82%B4%EC%8B%9D%EB%8B%B9_%EC%8B%9D%EC%88%98_%EC%9D%B8%EC%9B%90_%EC%98%88%EC%B8%A1.ipynb\" target=\"_parent\"><img src=\"https://colab.research.google.com/assets/colab-badge.svg\" alt=\"Open In Colab\"/></a>"
      ]
    },
    {
      "cell_type": "markdown",
      "metadata": {
        "id": "Hm5y2Y_BpgC2"
      },
      "source": [
        "# DACON 한국토지주택공사\n",
        "구내식당 식수 인원 예측 AI 경진대회"
      ]
    },
    {
      "cell_type": "markdown",
      "metadata": {
        "id": "ru2z8ZHQhusV"
      },
      "source": [
        "## 필요 Model Install"
      ]
    },
    {
      "cell_type": "code",
      "metadata": {
        "id": "b3EwLU2uhsNi"
      },
      "source": [
        "!pip install pycaret\n",
        "!pip install konlpy\n",
        "# !pip install matplotlib -U\n",
        "\n",
        "# # 한글 폰트 사용\n",
        "# !sudo apt-get install -y fonts-nanum\n",
        "# !sudo fc-cache -fv\n",
        "# !rm ~/.cache/matplotlib -rf"
      ],
      "execution_count": null,
      "outputs": []
    },
    {
      "cell_type": "markdown",
      "metadata": {
        "id": "LADw0fTYaeGh"
      },
      "source": [
        "## Google Drive Mount"
      ]
    },
    {
      "cell_type": "code",
      "metadata": {
        "id": "5lze7HIfZh5_"
      },
      "source": [
        "from google.colab import drive\n",
        "drive.mount('/content/drive')"
      ],
      "execution_count": null,
      "outputs": []
    },
    {
      "cell_type": "markdown",
      "metadata": {
        "id": "HbIFRUlvahow"
      },
      "source": [
        "## Import Library"
      ]
    },
    {
      "cell_type": "code",
      "metadata": {
        "id": "nlUlKe5yacL1"
      },
      "source": [
        "import pandas as pd\n",
        "import numpy as np\n",
        "import datetime as dt\n",
        "np.random.seed(0)\n",
        "\n",
        "from pycaret.regression import *\n",
        "from sklearn.preprocessing import LabelEncoder\n",
        "from sklearn.metrics import roc_auc_score, log_loss\n",
        "\n",
        "from tqdm.notebook import tqdm\n",
        "from konlpy.tag import Kkma\n",
        "\n",
        "import torch\n",
        "import os, re\n",
        "# import matplotlib.pyplot as plt\n",
        "\n",
        "# plt.rcParams['font.family']=['NanumGothic', 'sans-serif']\n",
        "# plt.rcParams['axes.unicode_minus'] = False\n",
        "# %matplotlib inline"
      ],
      "execution_count": null,
      "outputs": []
    },
    {
      "cell_type": "code",
      "metadata": {
        "id": "4SZEtPK2uyAU"
      },
      "source": [
        "import matplotlib\n",
        "import matplotlib.pyplot as plt\n",
        "import matplotlib.font_manager as fm\n",
        "import os\n",
        "\n",
        "def change_matplotlib_font(font_download_url):\n",
        "    FONT_PATH = 'MY_FONT'\n",
        "    \n",
        "    font_download_cmd = f\"wget {font_download_url} -O {FONT_PATH}.zip\"\n",
        "    unzip_cmd = f\"unzip -o {FONT_PATH}.zip -d {FONT_PATH}\"\n",
        "    os.system(font_download_cmd)\n",
        "    os.system(unzip_cmd)\n",
        "    \n",
        "    font_files = fm.findSystemFonts(fontpaths=FONT_PATH)\n",
        "    for font_file in font_files:\n",
        "        fm.fontManager.addfont(font_file)\n",
        "\n",
        "    font_name = fm.FontProperties(fname=font_files[0]).get_name()\n",
        "    matplotlib.rc('font', family=font_name)\n",
        "    print(\"font family: \", plt.rcParams['font.family'])\n",
        "\n",
        "font_download_url = \"https://fonts.google.com/download?family=Noto%20Sans%20KR\"\n",
        "change_matplotlib_font(font_download_url)"
      ],
      "execution_count": null,
      "outputs": []
    },
    {
      "cell_type": "markdown",
      "metadata": {
        "id": "TPiDXLklamsN"
      },
      "source": [
        "## Load Data"
      ]
    },
    {
      "cell_type": "code",
      "metadata": {
        "id": "iCkPAXmhZjR2"
      },
      "source": [
        "path = '/content/drive/MyDrive/DACON/Dacon_Industry_Meal/'\n",
        "train = pd.read_csv(path+'train.csv')\n",
        "test = pd.read_csv(path+'test.csv')\n",
        "\n",
        "train.columns = ['일자', '요일', '정원','휴가자', '출장자', '야근자',\\\n",
        "                 '재택근무자', '조식', '중식', '석식', '중식계', '석식계']\n",
        "test.columns = ['일자', '요일', '정원','휴가자', '출장자', '야근자',\\\n",
        "                 '재택근무자', '조식', '중식', '석식']"
      ],
      "execution_count": null,
      "outputs": []
    },
    {
      "cell_type": "code",
      "metadata": {
        "id": "le95ZzxcamND"
      },
      "source": [
        "train[['재택근무자', '중식계', '석식계']] = train[['재택근무자', '중식계', '석식계']].astype('int')\n",
        "test['재택근무자'] = test['재택근무자'].astype('int')\n",
        "\n",
        "train['일자'] = pd.to_datetime(train['일자'])\n",
        "test['일자'] = pd.to_datetime(test['일자'])"
      ],
      "execution_count": null,
      "outputs": []
    },
    {
      "cell_type": "markdown",
      "metadata": {
        "id": "pmqcRC8tnkkQ"
      },
      "source": [
        "## 데이터 시각화\n",
        "* 시간에 따른 time_col의 변화를 관찰\n",
        "    * time_col : `'정원', '휴가자', '출장자', '시간외근무승인', '재택근무자', '중식계', '석식계'`\n",
        "\n",
        "* 삼성 SDS에서 실시한 적이 있는 대회라고 함\n",
        "    * RNN에서 휴가와 날씨에 가중치를 둬서 좋은 결과를 냈다고 함 -> 참고하면 좋을 듯\n",
        "    * 일기예보 데이터를 사용해보는 건 어떨까?\n",
        "\n",
        "<br>\n",
        "\n",
        "### 가설 1. 재택근무는 코로나 때문에 생겼을 것이다.\n",
        "* 코로나 이전과 이후로, 식수 인원이 큰 차이가 있을 것이다\n",
        "\n",
        "<br>\n",
        "\n",
        "### 가설 2. 날씨가 큰 영향을 미칠것이다\n",
        "* 월별, 계절별 데이터가 차이날 것\n",
        "\n",
        "<br>\n",
        "\n",
        "### 가설 3. 공휴일들과 휴가자는 큰 연관성이 있을 것이다.\n",
        "* 공휴일과 그렇지 않은 날을 구분해보자.\n",
        "\n",
        "<br>\n",
        "\n",
        "### 궁금증 1. 조식이 과연 의미가 있을까?\n",
        "* 일단 없을거라 생각되지만 확인하기 어려움\n",
        "    * 조식 아침 8시 제공\n",
        "    * 하루 본사 2명 숙직 18-익일09시\n",
        "    * 점심 1140-1300, 저녁 1800-\n",
        "        * 1140-1210 정도로 생각하라고 함\n"
      ]
    },
    {
      "cell_type": "markdown",
      "metadata": {
        "id": "YPa1T8MYTG5z"
      },
      "source": [
        "메뉴에 따라서 안먹기도 한다  \n",
        "출장은 국내출장과 근무지내출장이 있는데 국내출장은 하루종일 안먹는다  \n",
        "근무지내출장은 먹을수도 안먹을수도 있음  \n",
        "휴가는 시간제휴가도 있는데 그거는 따로 분류가 안되어있다  \n",
        "당일에도 휴가 가능하다.  \n",
        "그냥 금요일날 휴가 존나 감  \n",
        "공휴일이랑 연계해서 많이 감  "
      ]
    },
    {
      "cell_type": "code",
      "metadata": {
        "id": "Zzag87ZqbBpN"
      },
      "source": [
        "time_col = list(train.columns[2:7]) + list(train.columns[-2:])"
      ],
      "execution_count": null,
      "outputs": []
    },
    {
      "cell_type": "code",
      "metadata": {
        "id": "8jGRTAFol_f4"
      },
      "source": [
        "plt.figure(figsize=(10, 8))\n",
        "for col in time_col : \n",
        "    plt.plot(train['일자'], train[col], label=col)\n",
        "\n",
        "plt.xlabel('날짜(일)', fontsize=10)\n",
        "plt.ylabel('인원 수', fontsize=10)\n",
        "plt.title('날짜 별 인원 수', fontsize=15)\n",
        "plt.legend('best', labels=time_col)\n",
        "plt.show()"
      ],
      "execution_count": null,
      "outputs": []
    },
    {
      "cell_type": "markdown",
      "metadata": {
        "id": "JR5PAVyFZJa5"
      },
      "source": [
        "### 요일 별 야근인구\n",
        "* 수요일, 금요일에는 야근 인원이 현저히 적음을 확인\n",
        "    * 석식계와 큰 연관이 있을 듯\n",
        "    * 월화목 vs 수금으로 구분"
      ]
    },
    {
      "cell_type": "code",
      "metadata": {
        "id": "lPy1JHgaYhdp"
      },
      "source": [
        "bar_width = 0.35\n",
        "label = ['금', '목' ,'수', '월', '화']\n",
        "index = np.arange(train['요일'].nunique())\n",
        "alpha = 0.5\n",
        "plt.figure(figsize=(12, 8))\n",
        "\n",
        "plt.bar(index, train.groupby(['요일'])['야근자'].sum(), label='야근', width=0.4)\n",
        "plt.bar(index+bar_width, train.groupby(['요일'])['석식계'].sum(), label='석식', width=0.4)\n",
        "plt.xticks(index, label)\n",
        "plt.legend('best', labels=['야근', '석식'])\n",
        "plt.title('요일 별 야근 인원', fontsize=12)\n",
        "plt.show()"
      ],
      "execution_count": null,
      "outputs": []
    },
    {
      "cell_type": "markdown",
      "metadata": {
        "id": "QrIIWWtkZqkr"
      },
      "source": [
        "### 요일 별 출장자\n",
        "* 요일별로 출장자의 차이가 크지는 않음\n",
        "    * 월요일보다 금요일이 조금 많은 정도\n",
        "    * 하지만 출장자와 중,석식은 관련이 있음\n",
        "        * 근무지내 출장자와 국내출장자는 어떻게 구분할까\n",
        "            * 근무지내 출장자 : 출장에 따라 밥을 먹을수도 아닐수도\n",
        "            * 국내 출장자 : 밥 먹는게 불가능"
      ]
    },
    {
      "cell_type": "code",
      "metadata": {
        "id": "95JaDtXBYNNh"
      },
      "source": [
        "plt.bar(train.groupby(['요일'])['출장자'].sum().index, train.groupby(['요일'])['출장자'].sum())\n",
        "plt.title('요일 별 출장 인원', fontsize=12)\n",
        "plt.show()"
      ],
      "execution_count": null,
      "outputs": []
    },
    {
      "cell_type": "markdown",
      "metadata": {
        "id": "iE03wPvBaZjm"
      },
      "source": [
        "### 요일 별 휴가자\n",
        "* 월요일과 금요일이 훨씬 많음\n",
        "    * 휴가는 붙여서 사용 가능\n",
        "        * 당일 사용 가능\n",
        "    * 공휴일과도 연관성이 짙을 것\n",
        "    * 날씨와도 연관성이 있지 않을까"
      ]
    },
    {
      "cell_type": "code",
      "metadata": {
        "id": "rXDjKod6acTJ"
      },
      "source": [
        "plt.bar(train.groupby(['요일'])['휴가자'].sum().index, train.groupby(['요일'])['휴가자'].sum())\n",
        "plt.title('요일 별 휴가 인원', fontsize=12)\n",
        "plt.show()"
      ],
      "execution_count": null,
      "outputs": []
    },
    {
      "cell_type": "code",
      "metadata": {
        "id": "NqMSdeePa3f-"
      },
      "source": [
        "train['년'] = train['일자'].dt.year\n",
        "train['월'] = train['일자'].dt.month\n",
        "train['일'] = train['일자'].dt.day\n",
        "\n",
        "test['년'] = test['일자'].dt.year\n",
        "test['월'] = test['일자'].dt.month\n",
        "test['일'] = test['일자'].dt.day"
      ],
      "execution_count": null,
      "outputs": []
    },
    {
      "cell_type": "markdown",
      "metadata": {
        "id": "SCIrg_sfbD9I"
      },
      "source": [
        "### 재택 근무자 추이\n",
        "* 코로나 검사와 높은 연관성이 있는 것으로 추정\n",
        "    * 검사를 받을 경우 재택이라고 함"
      ]
    },
    {
      "cell_type": "code",
      "metadata": {
        "id": "Pr-sksjanq1i"
      },
      "source": [
        "plt.plot(train['일자'].iloc[800:], train['재택근무자'].iloc[800:])\n",
        "plt.plot(train['일자'].iloc[800:], train['중식계'].iloc[800:])\n",
        "plt.xticks(rotation=20)\n",
        "plt.title('재택 근무자 추이')\n",
        "\n",
        "plt.show()"
      ],
      "execution_count": null,
      "outputs": []
    },
    {
      "cell_type": "code",
      "metadata": {
        "id": "3SVGCKWrfRZZ"
      },
      "source": [
        "train['월일'] = train['일자'].apply(lambda x : str(x)[5:10])\n",
        "train_18 = train.loc[train['년']==2018]\n",
        "train_19 = train.loc[train['년']==2019]\n",
        "train_20 = train.loc[train['년']==2020]"
      ],
      "execution_count": null,
      "outputs": []
    },
    {
      "cell_type": "code",
      "metadata": {
        "id": "JNYj5vfsmwxc"
      },
      "source": [
        "plt.plot(train.groupby(['년'])['정원'].mean())\n",
        "plt.title('년도 별 정원', fontsize=12)\n",
        "\n",
        "plt.show()"
      ],
      "execution_count": null,
      "outputs": []
    },
    {
      "cell_type": "code",
      "metadata": {
        "id": "Tzl40w_8sHFm"
      },
      "source": [
        "plt.figure(figsize=(10, 8))\n",
        "bar_width = 0.3\n",
        "index = train_19.groupby(['월'])['중식계'].sum().index\n",
        "alpha = 0.5\n",
        "\n",
        "plt.bar(index-bar_width, train_18.groupby(['월'])['중식계'].sum(),\n",
        "        label='2018', width=0.3, alpha=alpha)\n",
        "plt.bar(index, train_19.groupby(['월'])['중식계'].sum(), label='2019', width=0.3, alpha=alpha)\n",
        "plt.bar(index+bar_width,\n",
        "        train_20.groupby(['월'])['중식계'].sum(), label='2020', width=0.3, alpha=alpha)\n",
        "plt.bar(index+bar_width,\n",
        "        train_20.groupby(['월'])['재택근무자'].sum(), label='재택근무자',\n",
        "        bottom=train_20.groupby(['월'])['중식계'].sum(), width=0.3, alpha=alpha)\n",
        "\n",
        "plt.xticks(index, label=index)\n",
        "plt.xlabel('월')\n",
        "plt.ylabel('중식계 총합')\n",
        "plt.legend('best', labels=['2018', '2019', '2020', '재택근무자'])\n",
        "plt.title('코로나가 중식계에 끼친 영향', fontsize=12)\n",
        "plt.show()"
      ],
      "execution_count": null,
      "outputs": []
    },
    {
      "cell_type": "code",
      "metadata": {
        "id": "SScy2Kcpla6v"
      },
      "source": [
        "plt.figure(figsize=(10, 8))\n",
        "bar_width = 0.3\n",
        "index = train_19.groupby(['월'])['석식계'].sum().index\n",
        "alpha = 0.5\n",
        "\n",
        "plt.bar(index-bar_width, train_18.groupby(['월'])['석식계'].sum(),\n",
        "        label='2018', width=0.3, alpha=alpha)\n",
        "plt.bar(index, train_19.groupby(['월'])['석식계'].sum(), label='2019', width=0.3, alpha=alpha)\n",
        "plt.bar(index+bar_width,\n",
        "        train_20.groupby(['월'])['석식계'].sum(), label='2020', width=0.3, alpha=alpha)\n",
        "plt.bar(index+bar_width,\n",
        "        train_20.groupby(['월'])['재택근무자'].sum(), label='재택근무자',\n",
        "        bottom=train_20.groupby(['월'])['석식계'].sum(), width=0.3, alpha=alpha)\n",
        "\n",
        "plt.xticks(index, label=index)\n",
        "plt.xlabel('월')\n",
        "plt.ylabel('석식계 총합')\n",
        "plt.legend('best', labels=['2018', '2019', '2020', '재택근무자'])\n",
        "plt.title('코로나가 석식계에 끼친 영향', fontsize=12)\n",
        "plt.show()"
      ],
      "execution_count": null,
      "outputs": []
    },
    {
      "cell_type": "markdown",
      "metadata": {
        "id": "hpQ2O1koPbsR"
      },
      "source": [
        "### 공휴일\n",
        "* 공휴일은 따로 기록되지 않고, 공휴일 전후로 휴가가 급격히 늘어남"
      ]
    },
    {
      "cell_type": "code",
      "metadata": {
        "id": "BPNCHzVpk7bM"
      },
      "source": [
        "train[train['일자']=='2020-04-29']"
      ],
      "execution_count": null,
      "outputs": []
    },
    {
      "cell_type": "code",
      "metadata": {
        "id": "wXFOoggrO-dd"
      },
      "source": [
        "train[train['일자']=='2020-05-06']"
      ],
      "execution_count": null,
      "outputs": []
    },
    {
      "cell_type": "code",
      "metadata": {
        "id": "UQVkGMQ7PFjT"
      },
      "source": [
        "train[train['일자']=='2020-05-04']"
      ],
      "execution_count": null,
      "outputs": []
    },
    {
      "cell_type": "markdown",
      "metadata": {
        "id": "g4QXJ_r_vfjj"
      },
      "source": [
        "### 자연어처리"
      ]
    },
    {
      "cell_type": "code",
      "metadata": {
        "id": "Nqegc2bmPsLU"
      },
      "source": [
        "kkma = Kkma()"
      ],
      "execution_count": null,
      "outputs": []
    },
    {
      "cell_type": "code",
      "metadata": {
        "id": "u3lxIqNvQThf"
      },
      "source": [
        "# 명사들 추출\n",
        "# train[['조식', '중식', '석식']] = train[['조식', '중식', '석식']].applymap(lambda x : kkma.nouns(x))\n",
        "# test[['조식', '중식', '석식']] = test[['조식', '중식', '석식']].applymap(lambda x : kkma.nouns(x))"
      ],
      "execution_count": null,
      "outputs": []
    },
    {
      "cell_type": "code",
      "metadata": {
        "id": "566oLUg3QTkF"
      },
      "source": [
        "# 단어 목록\n",
        "# word_list_morning = train.iloc[:, 7].tolist()\n",
        "word_list_lunch = train.iloc[:, 8].tolist()\n",
        "word_list_dinner = train.iloc[:, 9].tolist()"
      ],
      "execution_count": null,
      "outputs": []
    },
    {
      "cell_type": "code",
      "metadata": {
        "id": "3EtUsPO9QTmm"
      },
      "source": [
        "# 중복 제거\n",
        "# word_morning = [list(i) for i in set([tuple(j) for j in word_list_morning])]\n",
        "word_lunch = [list(i) for i in set([tuple(j) for j in word_list_lunch])]\n",
        "word_dinner = [list(i) for i in set([tuple(j) for j in word_list_dinner])]\n",
        "\n",
        "# food = word_morning + word_lunch + word_dinner\n",
        "food = word_lunch+word_dinner"
      ],
      "execution_count": null,
      "outputs": []
    },
    {
      "cell_type": "code",
      "metadata": {
        "id": "7XQzFUBqqm74"
      },
      "source": [
        "train['요일'] = train['일자'].dt.weekday\n",
        "train['야근_가능'] = train['요일'].apply(lambda x : 1 if (x==2) or (x==4) else 0)\n",
        "train['출근인원'] = train['정원']-(train['휴가자']+train['출장자']+train['재택근무자'])\n",
        "train['휴가비율'] = train['휴가자']/train['정원']\n",
        "train['출장비율'] = train['출장자']/train['정원']\n",
        "train['야근비율'] = train['야근자']/train['출근인원']\n",
        "train['재택비율'] = train['재택근무자']/train['정원']"
      ],
      "execution_count": null,
      "outputs": []
    },
    {
      "cell_type": "code",
      "metadata": {
        "id": "BkQd9Gerqsmb"
      },
      "source": [
        "test['요일'] = test['일자'].dt.weekday\n",
        "test['야근_가능'] = test['요일'].apply(lambda x : 1 if (x==2) or (x==4) else 0)\n",
        "test['출근인원'] = test['정원']-(test['휴가자']+test['출장자']+test['재택근무자'])\n",
        "test['휴가비율'] = test['휴가자']/test['정원']\n",
        "test['출장비율'] = test['출장자']/test['정원']\n",
        "test['야근비율'] = test['야근자']/test['출근인원']\n",
        "test['재택비율'] = test['재택근무자']/test['정원']"
      ],
      "execution_count": null,
      "outputs": []
    },
    {
      "cell_type": "code",
      "metadata": {
        "id": "yajBqX3tqv14"
      },
      "source": [
        "train_1 = train[['일자', '요일', '월', '년', '휴가비율', '출장비율', '중식계']]\n",
        "train_2 = train[['일자', '요일', '월', '년', '야근_가능', '휴가비율', '출장비율', '야근비율', '석식계']]"
      ],
      "execution_count": null,
      "outputs": []
    },
    {
      "cell_type": "code",
      "metadata": {
        "id": "CEMvV8sB0DPh"
      },
      "source": [
        "def feature_pipeline(df) : \n",
        "    df['요일'] = df['일자'].dt.weekday\n",
        "    df['야근_가능'] = df['요일'].apply(lambda x : 1 if (x==2) or (x==4) else 0)\n",
        "    df['출근인원'] = df['정원']-(df['휴가자']+df['출장자']+df['재택근무자'])\n",
        "    df['휴가비율'] = df['휴가자']/df['정원']\n",
        "    df['출장비율'] = df['출장자']/df['정원']\n",
        "    df['야근비율'] = df['야근자']/df['출근인원']\n",
        "    df['재택비율'] = df['재택근무자']/df['정원']\n",
        "\n",
        "    X_pivot_train = pd.pivot_table(data = df,\n",
        "                values = ['정원', '휴가자', '출장자', '야근자', '재택근무자'],\n",
        "                index = '요일',\n",
        "                aggfunc = ['mean', 'min', 'max',\n",
        "                            'std', 'var']\n",
        "                )\n",
        "    X_columns = [agg + '_' + '요일' + '_' + column for agg, column in X_pivot_train.columns]\n",
        "    X_pivot_train.columns = X_columns\n",
        "    df = pd.merge(df, X_pivot_train, on ='요일')\n",
        "\n",
        "    X_pivot_train = pd.pivot_table(data = df,\n",
        "                values = ['정원', '휴가자', '출장자', '야근자', '재택근무자'],\n",
        "                index = '월',\n",
        "                aggfunc = ['mean', 'min', 'max',\n",
        "                            'std', 'var']\n",
        "                )\n",
        "    X_columns = [agg + '_' + '월' + '_' + column for agg, column in X_pivot_train.columns]\n",
        "    X_pivot_train.columns = X_columns\n",
        "    df = pd.merge(df, X_pivot_train, on ='월')\n",
        "\n",
        "    return df"
      ],
      "execution_count": null,
      "outputs": []
    },
    {
      "cell_type": "code",
      "metadata": {
        "id": "qqsXP3Ui0Egh"
      },
      "source": [
        "# train = feature_pipeline(train)\n",
        "# test = feature_pipeline(test)"
      ],
      "execution_count": null,
      "outputs": []
    },
    {
      "cell_type": "code",
      "metadata": {
        "id": "8Rqv73R0XVAn"
      },
      "source": [
        "train.corr()"
      ],
      "execution_count": null,
      "outputs": []
    },
    {
      "cell_type": "code",
      "metadata": {
        "id": "UNG5oMZV0EmQ"
      },
      "source": [
        "# train.drop(['조식', '월일', '일', '년'], inplace=True, axis=1)\n",
        "# test.drop(['조식', '일', '년'], inplace=True, axis=1)"
      ],
      "execution_count": null,
      "outputs": []
    },
    {
      "cell_type": "code",
      "metadata": {
        "id": "d8ZHwpUECwLJ"
      },
      "source": [
        "# train_1 = train.drop(['석식계'], axis=1)\n",
        "# train_2 = train.drop(['중식계'], axis=1)"
      ],
      "execution_count": null,
      "outputs": []
    },
    {
      "cell_type": "code",
      "metadata": {
        "id": "cMG81-Zd0EpL"
      },
      "source": [
        "reg = setup(data=train_1,\n",
        "            target='중식계',\n",
        "            numeric_imputation = 'mean',\n",
        "            normalize = True,\n",
        "            silent= True)"
      ],
      "execution_count": null,
      "outputs": []
    },
    {
      "cell_type": "code",
      "metadata": {
        "id": "p-TH5M-G0Es9"
      },
      "source": [
        "compare_models()"
      ],
      "execution_count": null,
      "outputs": []
    },
    {
      "cell_type": "code",
      "metadata": {
        "id": "9VwACtYG0FIi"
      },
      "source": [
        "best_5 = compare_models(sort='MAE', n_select=5)"
      ],
      "execution_count": null,
      "outputs": []
    },
    {
      "cell_type": "code",
      "metadata": {
        "id": "LI6Gu_sIHccA"
      },
      "source": [
        "blended = blend_models(estimator_list= best_5, fold=5, optimize='MAE')\n",
        "pred_holdout = predict_model(blended)\n",
        "final_model = finalize_model(blended)\n",
        "pred1 = predict_model(final_model, test)\n"
      ],
      "execution_count": null,
      "outputs": []
    },
    {
      "cell_type": "code",
      "metadata": {
        "id": "JQeY4iFLHm3g"
      },
      "source": [
        ""
      ],
      "execution_count": null,
      "outputs": []
    },
    {
      "cell_type": "code",
      "metadata": {
        "id": "8IgMrp_JH13n"
      },
      "source": [
        "sample_submission = pd.read_csv(path+'sample_submission.csv')"
      ],
      "execution_count": null,
      "outputs": []
    },
    {
      "cell_type": "code",
      "metadata": {
        "id": "WbWj5LN-Hmyc"
      },
      "source": [
        "submission = sample_submission.copy()"
      ],
      "execution_count": null,
      "outputs": []
    },
    {
      "cell_type": "code",
      "metadata": {
        "id": "UNLa1rSiHmq_"
      },
      "source": [
        "submission['중식계'] = pred1['Label']"
      ],
      "execution_count": null,
      "outputs": []
    },
    {
      "cell_type": "code",
      "metadata": {
        "id": "KtJ9FqQeHmjL"
      },
      "source": [
        "reg = setup(data=train_2,\n",
        "            target='석식계',\n",
        "            numeric_imputation = 'mean',\n",
        "            normalize = True,\n",
        "            silent= True)"
      ],
      "execution_count": null,
      "outputs": []
    },
    {
      "cell_type": "code",
      "metadata": {
        "id": "nnwX1aVR0FMg"
      },
      "source": [
        "compare_models()"
      ],
      "execution_count": null,
      "outputs": []
    },
    {
      "cell_type": "code",
      "metadata": {
        "id": "kJ8eorUIIF8R"
      },
      "source": [
        "best_5 = compare_models(sort = 'MAE', n_select = 5)"
      ],
      "execution_count": null,
      "outputs": []
    },
    {
      "cell_type": "code",
      "metadata": {
        "id": "Y1ifzzKbIF3d"
      },
      "source": [
        "blended = blend_models(estimator_list = best_5, fold = 5, optimize = 'MAE')\n",
        "pred_holdout = predict_model(blended)\n",
        "final_model = finalize_model(blended)\n",
        "pred2 = predict_model(final_model, test)"
      ],
      "execution_count": null,
      "outputs": []
    },
    {
      "cell_type": "code",
      "metadata": {
        "id": "StAqyP5rIFzy"
      },
      "source": [
        "submission['석식계'] = pred2['Label']"
      ],
      "execution_count": null,
      "outputs": []
    },
    {
      "cell_type": "code",
      "metadata": {
        "id": "iDbZYkrdIFvi"
      },
      "source": [
        "submission"
      ],
      "execution_count": null,
      "outputs": []
    },
    {
      "cell_type": "code",
      "metadata": {
        "id": "9y0iJ7GHIFie"
      },
      "source": [
        "submission.to_csv('./20210605_01.csv', index=False)"
      ],
      "execution_count": null,
      "outputs": []
    },
    {
      "cell_type": "code",
      "metadata": {
        "id": "k7C5QP3NIFeL"
      },
      "source": [
        ""
      ],
      "execution_count": null,
      "outputs": []
    },
    {
      "cell_type": "code",
      "metadata": {
        "id": "0OUGyQ51IFZw"
      },
      "source": [
        ""
      ],
      "execution_count": null,
      "outputs": []
    },
    {
      "cell_type": "code",
      "metadata": {
        "id": "6VBXkQNuxp6S"
      },
      "source": [
        "# 나중에 한번 써보자\n",
        "# train['일자'].dt.week"
      ],
      "execution_count": null,
      "outputs": []
    },
    {
      "cell_type": "code",
      "metadata": {
        "id": "nkfM4V8AQTv9"
      },
      "source": [
        ""
      ],
      "execution_count": null,
      "outputs": []
    }
  ]
}