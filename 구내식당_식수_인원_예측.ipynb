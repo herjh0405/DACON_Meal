{
  "nbformat": 4,
  "nbformat_minor": 0,
  "metadata": {
    "colab": {
      "name": "구내식당_식수_인원_예측",
      "private_outputs": true,
      "provenance": [],
      "collapsed_sections": [],
      "authorship_tag": "ABX9TyMLe7GZVRYv49oVTFlr1vKh",
      "include_colab_link": true
    },
    "kernelspec": {
      "name": "python3",
      "display_name": "Python 3"
    },
    "language_info": {
      "name": "python"
    }
  },
  "cells": [
    {
      "cell_type": "markdown",
      "metadata": {
        "id": "view-in-github",
        "colab_type": "text"
      },
      "source": [
        "<a href=\"https://colab.research.google.com/github/herjh0405/DACON/blob/master/%EA%B5%AC%EB%82%B4%EC%8B%9D%EB%8B%B9_%EC%8B%9D%EC%88%98_%EC%9D%B8%EC%9B%90_%EC%98%88%EC%B8%A1.ipynb\" target=\"_parent\"><img src=\"https://colab.research.google.com/assets/colab-badge.svg\" alt=\"Open In Colab\"/></a>"
      ]
    },
    {
      "cell_type": "markdown",
      "metadata": {
        "id": "Hm5y2Y_BpgC2"
      },
      "source": [
        "# DACON 한국토지주택공사\n",
        "구내식당 식수 인원 예측 AI 경진대회"
      ]
    },
    {
      "cell_type": "markdown",
      "metadata": {
        "id": "ru2z8ZHQhusV"
      },
      "source": [
        "## 필요 Model Install"
      ]
    },
    {
      "cell_type": "code",
      "metadata": {
        "id": "b3EwLU2uhsNi"
      },
      "source": [
        "# !pip install pycaret\n",
        "\n",
        "# !pip install konlpy\n",
        "# !pip install matplotlib -U\n",
        "\n",
        "# 한글 폰트 사용\n",
        "# !sudo apt-get install -y fonts-nanum\n",
        "# !sudo fc-cache -fv\n",
        "# !rm ~/.cache/matplotlib -rf"
      ],
      "execution_count": null,
      "outputs": []
    },
    {
      "cell_type": "markdown",
      "metadata": {
        "id": "LADw0fTYaeGh"
      },
      "source": [
        "## Google Drive Mount"
      ]
    },
    {
      "cell_type": "code",
      "metadata": {
        "id": "5lze7HIfZh5_"
      },
      "source": [
        "from google.colab import drive\n",
        "drive.mount('/content/drive')"
      ],
      "execution_count": null,
      "outputs": []
    },
    {
      "cell_type": "markdown",
      "metadata": {
        "id": "HbIFRUlvahow"
      },
      "source": [
        "## Import Library"
      ]
    },
    {
      "cell_type": "code",
      "metadata": {
        "id": "nlUlKe5yacL1"
      },
      "source": [
        "import pandas as pd\n",
        "import numpy as np\n",
        "np.random.seed(0)\n",
        "\n",
        "from pycaret.regression import *\n",
        "from sklearn.preprocessing import LabelEncoder\n",
        "from sklearn.metrics import roc_auc_score, log_loss\n",
        "\n",
        "from tqdm.notebook import tqdm\n",
        "from konlpy.tag import Kkma\n",
        "\n",
        "import torch\n",
        "import os, re\n",
        "import matplotlib.pyplot as plt\n",
        "\n",
        "plt.rcParams['font.family']=['NanumGothic', 'sans-serif']\n",
        "plt.rcParams['axes.unicode_minus'] = False\n",
        "# %matplotlib inline"
      ],
      "execution_count": null,
      "outputs": []
    },
    {
      "cell_type": "code",
      "metadata": {
        "id": "4SZEtPK2uyAU"
      },
      "source": [
        "# import matplotlib\n",
        "# import matplotlib.pyplot as plt\n",
        "# import matplotlib.font_manager as fm\n",
        "# import os\n",
        "\n",
        "# def change_matplotlib_font(font_download_url):\n",
        "#     FONT_PATH = 'MY_FONT'\n",
        "    \n",
        "#     font_download_cmd = f\"wget {font_download_url} -O {FONT_PATH}.zip\"\n",
        "#     unzip_cmd = f\"unzip -o {FONT_PATH}.zip -d {FONT_PATH}\"\n",
        "#     os.system(font_download_cmd)\n",
        "#     os.system(unzip_cmd)\n",
        "    \n",
        "#     font_files = fm.findSystemFonts(fontpaths=FONT_PATH)\n",
        "#     for font_file in font_files:\n",
        "#         fm.fontManager.addfont(font_file)\n",
        "\n",
        "#     font_name = fm.FontProperties(fname=font_files[0]).get_name()\n",
        "#     matplotlib.rc('font', family=font_name)\n",
        "#     print(\"font family: \", plt.rcParams['font.family'])\n",
        "\n",
        "# font_download_url = \"https://fonts.google.com/download?family=Noto%20Sans%20KR\"\n",
        "# change_matplotlib_font(font_download_url)"
      ],
      "execution_count": null,
      "outputs": []
    },
    {
      "cell_type": "markdown",
      "metadata": {
        "id": "TPiDXLklamsN"
      },
      "source": [
        "## Load Data"
      ]
    },
    {
      "cell_type": "code",
      "metadata": {
        "id": "iCkPAXmhZjR2"
      },
      "source": [
        "path = '/content/drive/MyDrive/DACON/Dacon_Industry_Meal/'\n",
        "train = pd.read_csv(path+'train.csv')\n",
        "test = pd.read_csv(path+'train.csv')\n",
        "\n",
        "train.columns = ['일자', '요일', '정원','휴가자', '출장자', '시간외근무승인',\\\n",
        "                 '재택근무자', '조식', '중식', '석식', '중식계', '석식계']\n",
        "test.columns = ['일자', '요일', '정원','휴가자', '출장자', '시간외근무승인',\\\n",
        "                 '재택근무자', '조식', '중식', '석식', '중식계', '석식계']"
      ],
      "execution_count": null,
      "outputs": []
    },
    {
      "cell_type": "code",
      "metadata": {
        "id": "le95ZzxcamND"
      },
      "source": [
        "train['일자'] = pd.to_datetime(train['일자'])\n",
        "test['일자'] = pd.to_datetime(test['일자'])"
      ],
      "execution_count": null,
      "outputs": []
    },
    {
      "cell_type": "markdown",
      "metadata": {
        "id": "pmqcRC8tnkkQ"
      },
      "source": [
        "## 데이터 시각화\n",
        "* 시간에 따른 time_col의 변화를 관찰\n",
        "    * time_col : `'정원', '휴가자', '출장자', '시간외근무승인', '재택근무자', '중식계', '석식계'`\n",
        "\n",
        "* 삼성 SDS에서 실시한 적이 있는 대회라고 함\n",
        "    * RNN에서 휴가와 날씨에 가중치를 둬서 좋은 결과를 냈다고 함 -> 참고하면 좋을 듯\n",
        "    * 일기예보 데이터를 사용해보는 건 어떨까?\n",
        "\n",
        "<br>\n",
        "\n",
        "### 가설 1. 재택근무는 코로나 때문에 생겼을 것이다.\n",
        "* 코로나 이전과 이후로, 식수 인원이 큰 차이가 있을 것이다\n",
        "\n",
        "<br>\n",
        "\n",
        "### 가설 2. 날씨가 큰 영향을 미칠것이다\n",
        "* 월별, 계절별 데이터가 차이날 것\n",
        "\n",
        "<br>\n",
        "\n",
        "### 가설 3. 공휴일들과 휴가자는 큰 연관성이 있을 것이다.\n",
        "* 공휴일과 그렇지 않은 날을 구분해보자.\n",
        "\n",
        "<br>\n",
        "\n",
        "### 궁금증 1. 조식이 과연 의미가 있을까?\n",
        "* 일단 없을거라 생각되지만 확인하기 어려움\n"
      ]
    },
    {
      "cell_type": "code",
      "metadata": {
        "id": "Zzag87ZqbBpN"
      },
      "source": [
        "time_col = list(train.columns[2:7]) + list(train.columns[-2:])"
      ],
      "execution_count": null,
      "outputs": []
    },
    {
      "cell_type": "code",
      "metadata": {
        "id": "8jGRTAFol_f4"
      },
      "source": [
        "plt.figure(figsize=(10, 8))\n",
        "for col in time_col : \n",
        "    plt.plot(train['일자'], train[col], label=col)\n",
        "\n",
        "plt.xlabel('날짜(일)', fontsize=10)\n",
        "plt.ylabel('인원 수', fontsize=10)\n",
        "plt.title('날짜 별 인원 수', fontsize=15)\n",
        "plt.legend('best', labels=time_col)\n",
        "plt.show()"
      ],
      "execution_count": null,
      "outputs": []
    },
    {
      "cell_type": "code",
      "metadata": {
        "id": "Pr-sksjanq1i"
      },
      "source": [
        ""
      ],
      "execution_count": null,
      "outputs": []
    }
  ]
}