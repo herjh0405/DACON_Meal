{
  "nbformat": 4,
  "nbformat_minor": 0,
  "metadata": {
    "colab": {
      "name": "New_Sight.ipynb",
      "private_outputs": true,
      "provenance": [],
      "mount_file_id": "1C1_qaSIg4iw4z0uUlH7ec4Q21j1AkxIA",
      "authorship_tag": "ABX9TyMd0x/Ge1Lz8bhI7992nfjv",
      "include_colab_link": true
    },
    "kernelspec": {
      "name": "python3",
      "display_name": "Python 3"
    },
    "language_info": {
      "name": "python"
    }
  },
  "cells": [
    {
      "cell_type": "markdown",
      "metadata": {
        "id": "view-in-github",
        "colab_type": "text"
      },
      "source": [
        "<a href=\"https://colab.research.google.com/github/herjh0405/DACON_Meal/blob/master/New_Sight.ipynb\" target=\"_parent\"><img src=\"https://colab.research.google.com/assets/colab-badge.svg\" alt=\"Open In Colab\"/></a>"
      ]
    },
    {
      "cell_type": "code",
      "metadata": {
        "id": "4IQCBObUn6NC"
      },
      "source": [
        "!pip install pendulum\n",
        "!pip install pycaret"
      ],
      "execution_count": null,
      "outputs": []
    },
    {
      "cell_type": "code",
      "metadata": {
        "id": "sST8SzD2ydZU"
      },
      "source": [
        "import pandas as pd\n",
        "from pycaret.regression import *\n",
        "\n",
        "# 한글 폰트 사용\n",
        "import matplotlib\n",
        "import matplotlib.pyplot as plt\n",
        "import matplotlib.font_manager as fm\n",
        "import os\n",
        "\n",
        "def change_matplotlib_font(font_download_url):\n",
        "    FONT_PATH = 'MY_FONT'\n",
        "    \n",
        "    font_download_cmd = f\"wget {font_download_url} -O {FONT_PATH}.zip\"\n",
        "    unzip_cmd = f\"unzip -o {FONT_PATH}.zip -d {FONT_PATH}\"\n",
        "    os.system(font_download_cmd)\n",
        "    os.system(unzip_cmd)\n",
        "    \n",
        "    font_files = fm.findSystemFonts(fontpaths=FONT_PATH)\n",
        "    for font_file in font_files:\n",
        "        fm.fontManager.addfont(font_file)\n",
        "\n",
        "    font_name = fm.FontProperties(fname=font_files[0]).get_name()\n",
        "    matplotlib.rc('font', family=font_name)\n",
        "    print(\"font family: \", plt.rcParams['font.family'])\n",
        "\n",
        "font_download_url = \"https://fonts.google.com/download?family=Noto%20Sans%20KR\"\n",
        "change_matplotlib_font(font_download_url)"
      ],
      "execution_count": null,
      "outputs": []
    },
    {
      "cell_type": "code",
      "metadata": {
        "id": "kjQolREfympc"
      },
      "source": [
        "path = '/content/drive/MyDrive/구내식당/water/'\n",
        "train = pd.read_csv(path+'train.csv')\n",
        "test = pd.read_csv(path+'test.csv')\n",
        "# 석식계가 0인 날들은 학습에서 제외\n",
        "train = train[train['석식계']!=0]\n",
        "train.reset_index(drop=True, inplace=True)\n",
        "df = pd.concat([train.iloc[:, :-2], test])\n",
        "target_df = train.iloc[:, -2:]\n",
        "df.columns = ['일자', '요일', '정원','휴가자', '출장자', '야근자',\\\n",
        "                 '재택근무자', '조식', '중식', '석식']\n",
        "me_df = df[['조식', '중식', '석식']]\n",
        "df = df.drop(columns=['조식', '중식', '석식'])"
      ],
      "execution_count": null,
      "outputs": []
    },
    {
      "cell_type": "code",
      "metadata": {
        "id": "TU_fG-P64fux"
      },
      "source": [
        "import datetime as dt\n",
        "# 일자를 기반으로 여러 파생 변수 도출\n",
        "df['일자'] = pd.to_datetime(df['일자'])\n",
        "df['년'] = df['일자'].dt.year\n",
        "df['월'] = df['일자'].dt.month\n",
        "df['일'] = df['일자'].dt.day\n",
        "df['월일'] = df['일자'].apply(lambda x : str(x)[5:10])\n",
        "\n",
        "# 식사 가능 인원 파악\n",
        "df['식사가능'] = df.apply(lambda x : x['정원']-x['휴가자']-x['출장자']-x['재택근무자'], axis=1)\n",
        "# 식사 가능 인원 중 몇 %가 야근을 하는가\n",
        "df['야근비율'] = df.apply(lambda x : x['야근자']/x['식사가능'], axis=1)\n",
        "# 휴가자와 출장자의 비율에 따라 결과 값이 달라질까?\n",
        "df['휴가비율'] = df.apply(lambda x : x['휴가자']/(x['휴가자']+x['출장자']), axis=1)\n",
        "df['출장비율'] = df.apply(lambda x : x['출장자']/(x['휴가자']+x['출장자']), axis=1)\n",
        "df['재택근무자'] = df.apply(lambda x : x['재택근무자']/(x['정원']), axis=1)"
      ],
      "execution_count": null,
      "outputs": []
    },
    {
      "cell_type": "code",
      "metadata": {
        "id": "xK71e8r5tZ6O"
      },
      "source": [
        "# 야근 가능 여부와, 코로나 전후 시점에 대한 표시\n",
        "df['overtime'] = df['요일'].apply(lambda x : 1 if (x=='수') or (x=='금') else 0)\n",
        "df['is_corona'] = df['일자'].apply(lambda x : 0 if x <= pd.to_datetime('2020-02-02') else 1)\n",
        "\n",
        "month_to_season = {1:'겨울', 2:'겨울', 3:'봄', 4:'봄', 5:'봄', 6:'여름', 7:'여름', 8:'여름',\\\n",
        "                   9:'가을',10:'가을',11:'가을',12:'겨울'}\n",
        "df['계절'] = df['월'].apply(lambda x : month_to_season[x])\n",
        "\n",
        "import pendulum\n",
        "train = df.iloc[:train.shape[0],:] \n",
        "test = df.iloc[train.shape[0]:,:]\n",
        "train['주차'] = train['일자'].apply(lambda x: pendulum.parse(str(x)).week_of_month)\n",
        "test['주차'] = test['일자'].apply(lambda x: pendulum.parse(str(x)).week_of_month)\n",
        "\n",
        "repair_2017 = train[(train['년']==2017)&(train['주차']<0)]['일자'].dt.week\n",
        "repair_2021 = train[(train['년']==2021)&(train['주차']<0)]['일자'].dt.week\n",
        "test_repair = test[(test['년']==2021)&(test['주차']<0)]['일자'].dt.week\n",
        "\n",
        "train['주차'][list(repair_2017.index)] = repair_2017.values\n",
        "train['주차'][list(repair_2021.index)] = repair_2021.values\n",
        "test['주차'][list(test_repair.index)] = test_repair.values\n",
        "\n",
        "train[train['주차']==-46]['주차'] = [6, 6]"
      ],
      "execution_count": null,
      "outputs": []
    },
    {
      "cell_type": "code",
      "metadata": {
        "id": "Wf6Sn3LOfw5t"
      },
      "source": [
        "df = pd.concat([train, test])\n",
        "df = df[['일자', '요일', '식사가능', '재택근무자', '년', '월',\\\n",
        "    '야근비율', '휴가비율', '출장비율', 'overtime', 'is_corona',\\\n",
        "    '계절', '주차']]"
      ],
      "execution_count": null,
      "outputs": []
    },
    {
      "cell_type": "code",
      "metadata": {
        "id": "uXwApTkTxmH6"
      },
      "source": [
        "from sklearn.preprocessing import LabelEncoder\n",
        "lbe = LabelEncoder()\n",
        "df[['년']] = lbe.fit_transform(df[['년']])\n",
        "onehot_col = ['요일', '계절']\n",
        "df = pd.concat([df[list((set(df.columns)-set(onehot_col)))],\\\n",
        "                pd.get_dummies(df[['요일', '계절']])], axis=1)"
      ],
      "execution_count": null,
      "outputs": []
    },
    {
      "cell_type": "code",
      "metadata": {
        "id": "a7-NysD72Sil"
      },
      "source": [
        "train = pd.concat([df.iloc[:train.shape[0], :], target_df], axis=1)\n",
        "test = df.iloc[train.shape[0]:, :]"
      ],
      "execution_count": null,
      "outputs": []
    },
    {
      "cell_type": "code",
      "metadata": {
        "id": "c_JOeYXB4PFq"
      },
      "source": [
        "train_1 =train.drop(columns=['overtime', '야근비율', '석식계'])\n",
        "train_2 = train.drop(columns=['출장비율', '휴가비율', '중식계'])"
      ],
      "execution_count": null,
      "outputs": []
    },
    {
      "cell_type": "code",
      "metadata": {
        "id": "EDLZL1Gz8OZX"
      },
      "source": [
        "sample_submission = pd.read_csv(path+'sample_submission.csv')\n",
        "submission = sample_submission.copy()"
      ],
      "execution_count": null,
      "outputs": []
    },
    {
      "cell_type": "code",
      "metadata": {
        "id": "dp3MZ8UN4WFW"
      },
      "source": [
        "reg = setup(data=train_1,\n",
        "            target='중식계',\n",
        "            numeric_imputation = 'mean',\n",
        "            normalize = True,\n",
        "            silent= True)"
      ],
      "execution_count": null,
      "outputs": []
    },
    {
      "cell_type": "code",
      "metadata": {
        "id": "qLmBlyPF7mrp"
      },
      "source": [
        "best_5 = compare_models(sort='MAE', n_select=5)"
      ],
      "execution_count": null,
      "outputs": []
    },
    {
      "cell_type": "code",
      "metadata": {
        "id": "DOAALXja8J3O"
      },
      "source": [
        "blended = blend_models(estimator_list= best_5, fold=5, optimize='MAE')\n",
        "pred_holdout = predict_model(blended)\n",
        "final_model = finalize_model(blended)\n",
        "pred1 = predict_model(final_model, test)"
      ],
      "execution_count": null,
      "outputs": []
    },
    {
      "cell_type": "code",
      "metadata": {
        "id": "tM302d2Z8LWx"
      },
      "source": [
        "# Voting Regressor\t70.3393\t8841.6164\t94.0299\t0.781\t0.117\t0.0857"
      ],
      "execution_count": null,
      "outputs": []
    },
    {
      "cell_type": "code",
      "metadata": {
        "id": "QW_pGYya8Zji"
      },
      "source": [
        "submission['중식계'] = pred1.reset_index()['Label']"
      ],
      "execution_count": null,
      "outputs": []
    },
    {
      "cell_type": "code",
      "metadata": {
        "id": "RBPXnmng8d_D"
      },
      "source": [
        "reg = setup(data=train_2,\n",
        "            target='석식계',\n",
        "            numeric_imputation = 'mean',\n",
        "            normalize = True,\n",
        "            silent= True)"
      ],
      "execution_count": null,
      "outputs": []
    },
    {
      "cell_type": "code",
      "metadata": {
        "id": "tVuPPeGP8hdu"
      },
      "source": [
        "best_5 = compare_models(sort = 'MAE', n_select = 5)"
      ],
      "execution_count": null,
      "outputs": []
    },
    {
      "cell_type": "code",
      "metadata": {
        "id": "0DUHTEYE8lBe"
      },
      "source": [
        "blended = blend_models(estimator_list = best_5, fold = 5, optimize = 'MAE')\n",
        "pred_holdout = predict_model(blended)\n",
        "final_model = finalize_model(blended)\n",
        "pred2 = predict_model(final_model, test)"
      ],
      "execution_count": null,
      "outputs": []
    },
    {
      "cell_type": "code",
      "metadata": {
        "id": "5UOOQe7Z8yZo"
      },
      "source": [
        "# Voting Regressor\t41.4552\t3000.7717\t54.7793\t0.7263\t0.1413\t0.1027"
      ],
      "execution_count": null,
      "outputs": []
    },
    {
      "cell_type": "code",
      "metadata": {
        "id": "xDpKhbK38jBq"
      },
      "source": [
        "submission['석식계'] = pred2['Label']"
      ],
      "execution_count": null,
      "outputs": []
    },
    {
      "cell_type": "code",
      "metadata": {
        "id": "FJVDfiEM8kaZ"
      },
      "source": [
        "sub_path = '/content/drive/MyDrive/DACON/Dacon_Industry_Meal/submit'\n",
        "submission.to_csv(sub_path+'20210611_01.csv', index=False)"
      ],
      "execution_count": null,
      "outputs": []
    },
    {
      "cell_type": "code",
      "metadata": {
        "id": "16GFgOUC88Ww"
      },
      "source": [
        ""
      ],
      "execution_count": null,
      "outputs": []
    }
  ]
}