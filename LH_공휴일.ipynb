{
  "nbformat": 4,
  "nbformat_minor": 0,
  "metadata": {
    "colab": {
      "name": "LH_공휴일.ipynb",
      "private_outputs": true,
      "provenance": [],
      "authorship_tag": "ABX9TyNQokIXwQjxAkoqhJOuoLQP",
      "include_colab_link": true
    },
    "kernelspec": {
      "name": "python3",
      "display_name": "Python 3"
    },
    "language_info": {
      "name": "python"
    }
  },
  "cells": [
    {
      "cell_type": "markdown",
      "metadata": {
        "id": "view-in-github",
        "colab_type": "text"
      },
      "source": [
        "<a href=\"https://colab.research.google.com/github/herjh0405/DACON_Meal/blob/master/LH_%EA%B3%B5%ED%9C%B4%EC%9D%BC.ipynb\" target=\"_parent\"><img src=\"https://colab.research.google.com/assets/colab-badge.svg\" alt=\"Open In Colab\"/></a>"
      ]
    },
    {
      "cell_type": "markdown",
      "metadata": {
        "id": "yr9luQf80YuD"
      },
      "source": [
        "# 공휴일 인사이트\n",
        "가설. 공휴일과 휴가자는 큰 연관성이 있을 것이다."
      ]
    },
    {
      "cell_type": "markdown",
      "metadata": {
        "id": "MugQZ3MP0twO"
      },
      "source": [
        "### Google Drive Mount"
      ]
    },
    {
      "cell_type": "code",
      "metadata": {
        "id": "5sGUEPj70jZ8"
      },
      "source": [
        "from google.colab import drive\n",
        "drive.mount('/content/drive')"
      ],
      "execution_count": null,
      "outputs": []
    },
    {
      "cell_type": "markdown",
      "metadata": {
        "id": "BrENawFg0vH5"
      },
      "source": [
        "### Import Library"
      ]
    },
    {
      "cell_type": "code",
      "metadata": {
        "id": "jN_Fsr2h0khZ"
      },
      "source": [
        "import pandas as pd\n",
        "import numpy as np\n",
        "import datetime as dt\n",
        "np.random.seed(0)\n",
        "\n",
        "# 한글 폰트 사용\n",
        "import matplotlib\n",
        "import matplotlib.pyplot as plt\n",
        "import matplotlib.font_manager as fm\n",
        "import os\n",
        "\n",
        "def change_matplotlib_font(font_download_url):\n",
        "    FONT_PATH = 'MY_FONT'\n",
        "    \n",
        "    font_download_cmd = f\"wget {font_download_url} -O {FONT_PATH}.zip\"\n",
        "    unzip_cmd = f\"unzip -o {FONT_PATH}.zip -d {FONT_PATH}\"\n",
        "    os.system(font_download_cmd)\n",
        "    os.system(unzip_cmd)\n",
        "    \n",
        "    font_files = fm.findSystemFonts(fontpaths=FONT_PATH)\n",
        "    for font_file in font_files:\n",
        "        fm.fontManager.addfont(font_file)\n",
        "\n",
        "    font_name = fm.FontProperties(fname=font_files[0]).get_name()\n",
        "    matplotlib.rc('font', family=font_name)\n",
        "    print(\"font family: \", plt.rcParams['font.family'])\n",
        "\n",
        "font_download_url = \"https://fonts.google.com/download?family=Noto%20Sans%20KR\"\n",
        "change_matplotlib_font(font_download_url)"
      ],
      "execution_count": null,
      "outputs": []
    },
    {
      "cell_type": "markdown",
      "metadata": {
        "id": "m33_yCek01QJ"
      },
      "source": [
        "## Data Preprocessing"
      ]
    },
    {
      "cell_type": "markdown",
      "metadata": {
        "id": "IM9vupV5041p"
      },
      "source": [
        "### Load Data"
      ]
    },
    {
      "cell_type": "code",
      "metadata": {
        "id": "1htgSwW1058x"
      },
      "source": [
        "path = '/content/drive/MyDrive/구내식당/water/'\n",
        "train = pd.read_csv(path+'train.csv')\n",
        "test = pd.read_csv(path+'test.csv')\n",
        "holiday = pd.read_csv(path+'holidays.csv', index_col=0)\n",
        "corona = pd.read_csv(path+'corona_data.csv')\n",
        "\n",
        "df = pd.concat([train.iloc[:, :-2], test])\n",
        "target_df = train.iloc[:, -2:]\n",
        "df.columns = ['일자', '요일', '정원','휴가자', '출장자', '야근자',\\\n",
        "                 '재택근무자', '조식', '중식', '석식']"
      ],
      "execution_count": null,
      "outputs": []
    },
    {
      "cell_type": "markdown",
      "metadata": {
        "id": "W7RvpHK_06m5"
      },
      "source": [
        "### 년, 월, 일 컬럼 생성"
      ]
    },
    {
      "cell_type": "code",
      "metadata": {
        "id": "UZFRtYwQ06pG"
      },
      "source": [
        "df['재택근무자'] = df['재택근무자'].astype('int')\n",
        "\n",
        "df['일자'] = pd.to_datetime(df['일자'])\n",
        "df['년'] = df['일자'].dt.year\n",
        "df['월'] = df['일자'].dt.month\n",
        "df['일'] = df['일자'].dt.day\n",
        "df['월일'] = df['일자'].apply(lambda x : str(x)[5:10])"
      ],
      "execution_count": null,
      "outputs": []
    },
    {
      "cell_type": "markdown",
      "metadata": {
        "id": "oCb-DCiv06uR"
      },
      "source": [
        "### 공휴일 데이터 추가\n",
        "* Only_공휴일 전후 컬럼\n",
        "* 공휴일+휴일 전후 컬럼 추가"
      ]
    },
    {
      "cell_type": "code",
      "metadata": {
        "id": "E9mcxYe306wF"
      },
      "source": [
        "holiday['date'] = pd.to_datetime(holiday['date'])\n",
        "\n",
        "df['only_before_holiday'] = df['일자'].apply(lambda x : 1 if (x+dt.timedelta(1) in holiday['date'].tolist()) else 0)\n",
        "df['only_after_holiday'] = df['일자'].apply(lambda x : 1 if (x-dt.timedelta(1) in holiday['date'].tolist()) else 0)\n",
        "\n",
        "df['before_holiday'] = df['일자'].apply(lambda x : 1 if (x+dt.timedelta(1) in holiday['date'].tolist())\\\n",
        "                                      or ((x+dt.timedelta(1)).weekday() == 5) or ((x+dt.timedelta(1)).weekday() == 6) else 0)\n",
        "df['after_holiday'] = df['일자'].apply(lambda x : 1 if (x-dt.timedelta(1) in holiday['date'].tolist())\\\n",
        "                                     or ((x-dt.timedelta(1)).weekday() == 5) or ((x-dt.timedelta(1)).weekday() == 6) else 0)\n",
        "\n",
        "train = pd.concat([df.iloc[:train.shape[0],:], target_df], axis=1)"
      ],
      "execution_count": null,
      "outputs": []
    },
    {
      "cell_type": "markdown",
      "metadata": {
        "id": "bqyDv55D277J"
      },
      "source": [
        "### 공휴일 전후로 데이터의 흐름"
      ]
    },
    {
      "cell_type": "code",
      "metadata": {
        "id": "TIkrcXin06yU"
      },
      "source": [
        "plt.figure(figsize=(15, 8))\n",
        "plt.subplot(131)\n",
        "plt.boxplot([df[df['only_before_holiday']==1]['휴가자'], df[df['only_after_holiday']==1]['휴가자'],\\\n",
        "             df[(df['only_before_holiday']==1)&(df['only_after_holiday']==1)]['휴가자'], df[(df['only_before_holiday']==0)&(df['only_after_holiday']==0)]['휴가자']])\n",
        "plt.xticks(np.arange(1, 5, 1), labels=['쉬는 전날', '쉬는 다음날', '앞뒤', '그냥 평일'])\n",
        "plt.ylabel('휴가자 수 평균')\n",
        "plt.title('휴가와-쉬는날 연관성')\n",
        "\n",
        "plt.subplot(132)\n",
        "plt.boxplot([train[train['only_before_holiday']==1]['중식계'], train[train['only_after_holiday']==1]['중식계'],\\\n",
        "             train[(train['only_before_holiday']==1)&(train['only_after_holiday']==1)]['중식계'], train[(train['only_before_holiday']==0)&(train['only_after_holiday']==0)]['중식계']])\n",
        "plt.xticks(np.arange(1, 5, 1), labels=['쉬는 전날', '쉬는 다음날', '앞뒤', '그냥 평일'])\n",
        "plt.ylabel('중식계 수 평균')\n",
        "plt.title('중식계-쉬는날 연관성')\n",
        "\n",
        "plt.subplot(133)\n",
        "plt.boxplot([train[train['only_before_holiday']==1]['석식계'], train[train['only_after_holiday']==1]['석식계'],\\\n",
        "             train[(train['only_before_holiday']==1)&(train['only_after_holiday']==1)]['석식계'], train[(train['only_before_holiday']==0)&(train['only_after_holiday']==0)]['석식계']])\n",
        "plt.xticks(np.arange(1, 5, 1), labels=['쉬는 전날', '쉬는 다음날', '앞뒤', '그냥 평일'])\n",
        "plt.ylabel('석식계 수 평균')\n",
        "plt.title('석식계-쉬는날 연관성')\n",
        "\n",
        "plt.show()"
      ],
      "execution_count": null,
      "outputs": []
    },
    {
      "cell_type": "markdown",
      "metadata": {
        "id": "C9Vb4OBU2_yn"
      },
      "source": [
        "### 휴일 전후로 데이터의 흐름"
      ]
    },
    {
      "cell_type": "code",
      "metadata": {
        "id": "4NXyyTY9060v"
      },
      "source": [
        "plt.figure(figsize=(15, 8))\n",
        "plt.subplot(131)\n",
        "plt.boxplot([df[df['before_holiday']==1]['휴가자'], df[df['after_holiday']==1]['휴가자'],\\\n",
        "             df[(df['before_holiday']==1)&(df['after_holiday']==1)]['휴가자'], df[(df['before_holiday']==0)&(df['after_holiday']==0)]['휴가자']])\n",
        "plt.xticks(np.arange(1, 5, 1), labels=['쉬는 전날', '쉬는 다음날', '앞뒤', '그냥 평일'])\n",
        "plt.ylabel('휴가자 수 평균')\n",
        "plt.title('휴가와-쉬는날 연관성')\n",
        "\n",
        "plt.subplot(132)\n",
        "plt.boxplot([train[train['before_holiday']==1]['중식계'], train[train['after_holiday']==1]['중식계'],\\\n",
        "             train[(train['before_holiday']==1)&(train['after_holiday']==1)]['중식계'], train[(train['before_holiday']==0)&(train['after_holiday']==0)]['중식계']])\n",
        "plt.xticks(np.arange(1, 5, 1), labels=['쉬는 전날', '쉬는 다음날', '앞뒤', '그냥 평일'])\n",
        "plt.ylabel('중식계 수 평균')\n",
        "plt.title('중식계-쉬는날 연관성')\n",
        "\n",
        "plt.subplot(133)\n",
        "plt.boxplot([train[train['before_holiday']==1]['석식계'], train[train['after_holiday']==1]['석식계'],\\\n",
        "             train[(train['before_holiday']==1)&(train['after_holiday']==1)]['석식계'], train[(train['before_holiday']==0)&(train['after_holiday']==0)]['석식계']])\n",
        "plt.xticks(np.arange(1, 5, 1), labels=['쉬는 전날', '쉬는 다음날', '앞뒤', '그냥 평일'])\n",
        "plt.ylabel('석식계 수 평균')\n",
        "plt.title('석식계-쉬는날 연관성')\n",
        "\n",
        "plt.show()"
      ],
      "execution_count": null,
      "outputs": []
    },
    {
      "cell_type": "code",
      "metadata": {
        "id": "XewBktiL065_"
      },
      "source": [
        ""
      ],
      "execution_count": null,
      "outputs": []
    }
  ]
}